{
 "cells": [
  {
   "cell_type": "code",
   "execution_count": null,
   "metadata": {
    "application/vnd.databricks.v1+cell": {
     "inputWidgets": {},
     "nuid": "6c1bfc49-a27c-4ec2-9a31-36a965027487",
     "showTitle": false,
     "title": ""
    }
   },
   "outputs": [
    {
     "data": {
      "text/html": [
       "<style scoped>\n",
       "  .ansiout {\n",
       "    display: block;\n",
       "    unicode-bidi: embed;\n",
       "    white-space: pre-wrap;\n",
       "    word-wrap: break-word;\n",
       "    word-break: break-all;\n",
       "    font-family: \"Source Code Pro\", \"Menlo\", monospace;;\n",
       "    font-size: 13px;\n",
       "    color: #555;\n",
       "    margin-left: 4px;\n",
       "    line-height: 19px;\n",
       "  }\n",
       "</style>\n",
       "<div class=\"ansiout\"></div>"
      ]
     },
     "metadata": {
      "application/vnd.databricks.v1+output": {
       "addedWidgets": {},
       "arguments": {},
       "data": "<div class=\"ansiout\"></div>",
       "datasetInfos": [],
       "metadata": {},
       "removedWidgets": [],
       "type": "html"
      }
     },
     "output_type": "display_data"
    }
   ],
   "source": [
    "import time\n",
    "start_time = time.time()\n",
    "from pyspark.sql import SparkSession\n",
    "from pyspark.sql.types import *\n",
    "from pyspark import SparkContext\n",
    "from pyspark.sql.functions import * #for SQL functions\n",
    "from pyspark.sql.window import Window #for window function\n",
    "from datetime import datetime"
   ]
  },
  {
   "cell_type": "code",
   "execution_count": null,
   "metadata": {
    "application/vnd.databricks.v1+cell": {
     "inputWidgets": {},
     "nuid": "073df068-9cb9-4134-a53c-1e87d9c63b6f",
     "showTitle": false,
     "title": ""
    }
   },
   "outputs": [],
   "source": [
    "\"\"\"Cluster Specifications\n",
    "5 Nodes\n",
    "Driver: I3.xlarge\n",
    "runtime version: 10.3 (includes Apache Spark 3.2.1, Scala 2.12)\n",
    "30.5 GB Memory, 4 cores\n",
    "Min workers-2\n",
    "Max workers-5\n",
    "\"\"\""
   ]
  },
  {
   "cell_type": "code",
   "execution_count": null,
   "metadata": {
    "application/vnd.databricks.v1+cell": {
     "inputWidgets": {},
     "nuid": "818f4c6b-65dd-41b1-9fb8-8f92a421c831",
     "showTitle": false,
     "title": ""
    }
   },
   "outputs": [
    {
     "data": {
      "text/html": [
       "<style scoped>\n",
       "  .ansiout {\n",
       "    display: block;\n",
       "    unicode-bidi: embed;\n",
       "    white-space: pre-wrap;\n",
       "    word-wrap: break-word;\n",
       "    word-break: break-all;\n",
       "    font-family: \"Source Code Pro\", \"Menlo\", monospace;;\n",
       "    font-size: 13px;\n",
       "    color: #555;\n",
       "    margin-left: 4px;\n",
       "    line-height: 19px;\n",
       "  }\n",
       "</style>\n",
       "<div class=\"ansiout\"></div>"
      ]
     },
     "metadata": {
      "application/vnd.databricks.v1+output": {
       "addedWidgets": {},
       "arguments": {},
       "data": "<div class=\"ansiout\"></div>",
       "datasetInfos": [],
       "metadata": {},
       "removedWidgets": [],
       "type": "html"
      }
     },
     "output_type": "display_data"
    }
   ],
   "source": [
    "spark = SparkSession.builder \\\n",
    "            .appName(\"dds\") \\\n",
    "            .getOrCreate()"
   ]
  },
  {
   "cell_type": "markdown",
   "metadata": {
    "application/vnd.databricks.v1+cell": {
     "inputWidgets": {},
     "nuid": "d281d2e1-1236-4087-9743-5796caac9d77",
     "showTitle": false,
     "title": ""
    }
   },
   "source": [
    "# Add configuration for accessing S3"
   ]
  },
  {
   "cell_type": "code",
   "execution_count": null,
   "metadata": {
    "application/vnd.databricks.v1+cell": {
     "inputWidgets": {},
     "nuid": "8a050fc5-a1d4-4a65-a4e5-bf41ae2e19ba",
     "showTitle": false,
     "title": ""
    }
   },
   "outputs": [
    {
     "data": {
      "text/html": [
       "<style scoped>\n",
       "  .ansiout {\n",
       "    display: block;\n",
       "    unicode-bidi: embed;\n",
       "    white-space: pre-wrap;\n",
       "    word-wrap: break-word;\n",
       "    word-break: break-all;\n",
       "    font-family: \"Source Code Pro\", \"Menlo\", monospace;;\n",
       "    font-size: 13px;\n",
       "    color: #555;\n",
       "    margin-left: 4px;\n",
       "    line-height: 19px;\n",
       "  }\n",
       "</style>\n",
       "<div class=\"ansiout\"></div>"
      ]
     },
     "metadata": {
      "application/vnd.databricks.v1+output": {
       "addedWidgets": {},
       "arguments": {},
       "data": "<div class=\"ansiout\"></div>",
       "datasetInfos": [],
       "metadata": {},
       "removedWidgets": [],
       "type": "html"
      }
     },
     "output_type": "display_data"
    }
   ],
   "source": [
    "aws_access_key = '####'\n",
    "aws_secret_key = '#####'\n",
    "spark._jsc.hadoopConfiguration().set('spark.jars.packages', 'org.apache.hadoop:hadoop-aws:3.3.1') \n",
    "spark._jsc.hadoopConfiguration().set(\"spark.hadoop.fs.s3a.impl\", \"org.apache.hadoop.fs.s3a.S3AFileSystem\")\n",
    "spark._jsc.hadoopConfiguration().set(\"fs.s3a.access.key\", aws_access_key)\n",
    "spark._jsc.hadoopConfiguration().set(\"fs.s3a.secret.key\", aws_secret_key)\n",
    "spark._jsc.hadoopConfiguration().set('spark.jars.packages', 'org.mongodb.spark:mongo-spark-connector_2.12:3.0.1')\n",
    "spark._jsc.hadoopConfiguration().set('spark.network.timeout','7200s')\n",
    "spark._jsc.hadoopConfiguration().set('spark.executor.heartbeatInterval','1200s')"
   ]
  },
  {
   "cell_type": "markdown",
   "metadata": {
    "application/vnd.databricks.v1+cell": {
     "inputWidgets": {},
     "nuid": "aee6a326-478c-4bd3-907c-3b0fc57ab03e",
     "showTitle": false,
     "title": ""
    }
   },
   "source": [
    "# Data Pre-processing:"
   ]
  },
  {
   "cell_type": "code",
   "execution_count": null,
   "metadata": {
    "application/vnd.databricks.v1+cell": {
     "inputWidgets": {},
     "nuid": "c9bab26e-2b68-4525-9ac5-76ba58bf1f0d",
     "showTitle": false,
     "title": ""
    }
   },
   "outputs": [
    {
     "data": {
      "text/html": [
       "<style scoped>\n",
       "  .ansiout {\n",
       "    display: block;\n",
       "    unicode-bidi: embed;\n",
       "    white-space: pre-wrap;\n",
       "    word-wrap: break-word;\n",
       "    word-break: break-all;\n",
       "    font-family: \"Source Code Pro\", \"Menlo\", monospace;;\n",
       "    font-size: 13px;\n",
       "    color: #555;\n",
       "    margin-left: 4px;\n",
       "    line-height: 19px;\n",
       "  }\n",
       "</style>\n",
       "<div class=\"ansiout\"></div>"
      ]
     },
     "metadata": {
      "application/vnd.databricks.v1+output": {
       "addedWidgets": {},
       "arguments": {},
       "data": "<div class=\"ansiout\"></div>",
       "datasetInfos": [],
       "metadata": {},
       "removedWidgets": [],
       "type": "html"
      }
     },
     "output_type": "display_data"
    }
   ],
   "source": [
    "def IntegerSafe(value): # In case there are non-integer type to be converted.\n",
    "    try:\n",
    "        return int(value)\n",
    "    except:\n",
    "        return None\n",
    "\n",
    "def FloatSafe(value): # In case there are non-integer type to be converted.\n",
    "    try:\n",
    "        return float(value)\n",
    "    except:\n",
    "        return None\n",
    "    \n",
    "def toTimeSafe(inval):\n",
    "    inval = inval.strip(\"\\\"\") # Timestamp starting and ending with a double quotation mark.\n",
    "    try:\n",
    "        return datetime.strptime(inval, \"%Y/%m/%d\")\n",
    "    except ValueError:\n",
    "        return None\n",
    "    \n",
    "def BoolSafe(value): # In case there are non-integer type to be converted.\n",
    "    try:\n",
    "        if value ==\"True\": return True\n",
    "        else: return False\n",
    "    except:\n",
    "        return None"
   ]
  },
  {
   "cell_type": "markdown",
   "metadata": {
    "application/vnd.databricks.v1+cell": {
     "inputWidgets": {},
     "nuid": "8c3798f2-d0f8-489d-b776-b83a3c82ade8",
     "showTitle": false,
     "title": ""
    }
   },
   "source": [
    "## 1. Covid data"
   ]
  },
  {
   "cell_type": "code",
   "execution_count": null,
   "metadata": {
    "application/vnd.databricks.v1+cell": {
     "inputWidgets": {},
     "nuid": "18d1f067-a0a4-4b9f-9beb-acf7f3486fcb",
     "showTitle": false,
     "title": ""
    }
   },
   "outputs": [
    {
     "data": {
      "text/html": [
       "<style scoped>\n",
       "  .ansiout {\n",
       "    display: block;\n",
       "    unicode-bidi: embed;\n",
       "    white-space: pre-wrap;\n",
       "    word-wrap: break-word;\n",
       "    word-break: break-all;\n",
       "    font-family: \"Source Code Pro\", \"Menlo\", monospace;;\n",
       "    font-size: 13px;\n",
       "    color: #555;\n",
       "    margin-left: 4px;\n",
       "    line-height: 19px;\n",
       "  }\n",
       "</style>\n",
       "<div class=\"ansiout\"></div>"
      ]
     },
     "metadata": {
      "application/vnd.databricks.v1+output": {
       "addedWidgets": {},
       "arguments": {},
       "data": "<div class=\"ansiout\"></div>",
       "datasetInfos": [],
       "metadata": {},
       "removedWidgets": [],
       "type": "html"
      }
     },
     "output_type": "display_data"
    }
   ],
   "source": [
    "# read covid file using pyspark context\n",
    "header = sc.textFile(\"s3://msds697distdata/COVID-19_Cases_by_Geography_and_Date.csv\").first()\n",
    "\n",
    "covid_file = sc.textFile(\"s3://msds697distdata/COVID-19_Cases_by_Geography_and_Date.csv\")\\\n",
    "             .filter(lambda x: x!= header)\\\n",
    "             .map(lambda x : x.split(','))\\\n",
    "             .map(lambda x : (toTimeSafe(x[0])\n",
    "                              , x[1]\n",
    "                              , x[2]\n",
    "                              , FloatSafe(x[3])\n",
    "                              , FloatSafe(x[4])\n",
    "                              , FloatSafe(x[5])\n",
    "                              , FloatSafe(x[6])                                            \n",
    "                            ))\n",
    "\n",
    "schema = StructType([ StructField(\"Specimen_Collection_Date\", DateType(), True),\n",
    "                      StructField(\"area_type\", StringType(), True),\n",
    "                      StructField(\"id\", StringType(), True),\n",
    "                      StructField(\"acs_population\", FloatType(), True),\n",
    "                      StructField(\"New_Confirmed_Cases\", FloatType(), True),\n",
    "                      StructField(\"Cumulative_Confirmed_Cases\", FloatType(), True),\n",
    "                      StructField(\"Rate_of_Cumulative_Confirmed_Case\", FloatType(), True)    \n",
    "                    ])\n",
    "\n",
    "covid_df = spark.createDataFrame(covid_file, schema)"
   ]
  },
  {
   "cell_type": "code",
   "execution_count": null,
   "metadata": {
    "application/vnd.databricks.v1+cell": {
     "inputWidgets": {},
     "nuid": "198257d9-af7b-402b-89bb-1bc6b93ff41f",
     "showTitle": false,
     "title": ""
    }
   },
   "outputs": [
    {
     "data": {
      "text/html": [
       "<style scoped>\n",
       "  .ansiout {\n",
       "    display: block;\n",
       "    unicode-bidi: embed;\n",
       "    white-space: pre-wrap;\n",
       "    word-wrap: break-word;\n",
       "    word-break: break-all;\n",
       "    font-family: \"Source Code Pro\", \"Menlo\", monospace;;\n",
       "    font-size: 13px;\n",
       "    color: #555;\n",
       "    margin-left: 4px;\n",
       "    line-height: 19px;\n",
       "  }\n",
       "</style>\n",
       "<div class=\"ansiout\">+------------------------+--------------------+--------------------+--------------+-------------------+--------------------------+---------------------------------+\n",
       "Specimen_Collection_Date|           area_type|                  id|acs_population|New_Confirmed_Cases|Cumulative_Confirmed_Cases|Rate_of_Cumulative_Confirmed_Case|\n",
       "+------------------------+--------------------+--------------------+--------------+-------------------+--------------------------+---------------------------------+\n",
       "              2020-03-03|Analysis Neighbor...|Bayview Hunters P...|       37917.0|                0.0|                       0.0|                             null|\n",
       "              2020-03-03|Analysis Neighbor...|      Bernal Heights|       25167.0|                0.0|                       0.0|                             null|\n",
       "              2020-03-03|Analysis Neighbor...| Castro/Upper Market|       22502.0|                0.0|                       0.0|                             null|\n",
       "              2020-03-03|Analysis Neighbor...|           Chinatown|       14438.0|                0.0|                       0.0|                             null|\n",
       "              2020-03-03|Analysis Neighbor...|           Excelsior|       39879.0|               null|                      null|                             null|\n",
       "              2020-03-03|Analysis Neighbor...|Financial Distric...|       21537.0|                0.0|                       0.0|                             null|\n",
       "              2020-03-03|Analysis Neighbor...|           Glen Park|        8651.0|                0.0|                       0.0|                             null|\n",
       "              2020-03-03|Analysis Neighbor...|    Golden Gate Park|          63.0|               null|                      null|                             null|\n",
       "              2020-03-03|Analysis Neighbor...|      Haight Ashbury|       19275.0|                0.0|                       0.0|                             null|\n",
       "              2020-03-03|Analysis Neighbor...|        Hayes Valley|       19711.0|                0.0|                       0.0|                             null|\n",
       "+------------------------+--------------------+--------------------+--------------+-------------------+--------------------------+---------------------------------+\n",
       "only showing top 10 rows\n",
       "\n",
       "</div>"
      ]
     },
     "metadata": {
      "application/vnd.databricks.v1+output": {
       "addedWidgets": {},
       "arguments": {},
       "data": "<div class=\"ansiout\">+------------------------+--------------------+--------------------+--------------+-------------------+--------------------------+---------------------------------+\n|Specimen_Collection_Date|           area_type|                  id|acs_population|New_Confirmed_Cases|Cumulative_Confirmed_Cases|Rate_of_Cumulative_Confirmed_Case|\n+------------------------+--------------------+--------------------+--------------+-------------------+--------------------------+---------------------------------+\n|              2020-03-03|Analysis Neighbor...|Bayview Hunters P...|       37917.0|                0.0|                       0.0|                             null|\n|              2020-03-03|Analysis Neighbor...|      Bernal Heights|       25167.0|                0.0|                       0.0|                             null|\n|              2020-03-03|Analysis Neighbor...| Castro/Upper Market|       22502.0|                0.0|                       0.0|                             null|\n|              2020-03-03|Analysis Neighbor...|           Chinatown|       14438.0|                0.0|                       0.0|                             null|\n|              2020-03-03|Analysis Neighbor...|           Excelsior|       39879.0|               null|                      null|                             null|\n|              2020-03-03|Analysis Neighbor...|Financial Distric...|       21537.0|                0.0|                       0.0|                             null|\n|              2020-03-03|Analysis Neighbor...|           Glen Park|        8651.0|                0.0|                       0.0|                             null|\n|              2020-03-03|Analysis Neighbor...|    Golden Gate Park|          63.0|               null|                      null|                             null|\n|              2020-03-03|Analysis Neighbor...|      Haight Ashbury|       19275.0|                0.0|                       0.0|                             null|\n|              2020-03-03|Analysis Neighbor...|        Hayes Valley|       19711.0|                0.0|                       0.0|                             null|\n+------------------------+--------------------+--------------------+--------------+-------------------+--------------------------+---------------------------------+\nonly showing top 10 rows\n\n</div>",
       "datasetInfos": [],
       "metadata": {},
       "removedWidgets": [],
       "type": "html"
      }
     },
     "output_type": "display_data"
    }
   ],
   "source": [
    "covid_df.show(10)"
   ]
  },
  {
   "cell_type": "code",
   "execution_count": null,
   "metadata": {
    "application/vnd.databricks.v1+cell": {
     "inputWidgets": {},
     "nuid": "c0395e51-4e75-47cb-80e3-7244ca115407",
     "showTitle": false,
     "title": ""
    }
   },
   "outputs": [
    {
     "data": {
      "text/html": [
       "<style scoped>\n",
       "  .ansiout {\n",
       "    display: block;\n",
       "    unicode-bidi: embed;\n",
       "    white-space: pre-wrap;\n",
       "    word-wrap: break-word;\n",
       "    word-break: break-all;\n",
       "    font-family: \"Source Code Pro\", \"Menlo\", monospace;;\n",
       "    font-size: 13px;\n",
       "    color: #555;\n",
       "    margin-left: 4px;\n",
       "    line-height: 19px;\n",
       "  }\n",
       "</style>\n",
       "<div class=\"ansiout\"></div>"
      ]
     },
     "metadata": {
      "application/vnd.databricks.v1+output": {
       "addedWidgets": {},
       "arguments": {},
       "data": "<div class=\"ansiout\"></div>",
       "datasetInfos": [],
       "metadata": {},
       "removedWidgets": [],
       "type": "html"
      }
     },
     "output_type": "display_data"
    }
   ],
   "source": [
    "# Filtering to only required columns - neighbourhood, covid counts and population\n",
    "population = covid_df.filter(covid_df['area_type'] == 'Analysis Neighborhood')\\\n",
    "            .select('id', 'acs_population')\n"
   ]
  },
  {
   "cell_type": "code",
   "execution_count": null,
   "metadata": {
    "application/vnd.databricks.v1+cell": {
     "inputWidgets": {},
     "nuid": "23d2a7ff-cbc1-49f5-985d-75af90f742fc",
     "showTitle": false,
     "title": ""
    }
   },
   "outputs": [
    {
     "data": {
      "text/html": [
       "<style scoped>\n",
       "  .ansiout {\n",
       "    display: block;\n",
       "    unicode-bidi: embed;\n",
       "    white-space: pre-wrap;\n",
       "    word-wrap: break-word;\n",
       "    word-break: break-all;\n",
       "    font-family: \"Source Code Pro\", \"Menlo\", monospace;;\n",
       "    font-size: 13px;\n",
       "    color: #555;\n",
       "    margin-left: 4px;\n",
       "    line-height: 19px;\n",
       "  }\n",
       "</style>\n",
       "<div class=\"ansiout\"></div>"
      ]
     },
     "metadata": {
      "application/vnd.databricks.v1+output": {
       "addedWidgets": {},
       "arguments": {},
       "data": "<div class=\"ansiout\"></div>",
       "datasetInfos": [],
       "metadata": {},
       "removedWidgets": [],
       "type": "html"
      }
     },
     "output_type": "display_data"
    }
   ],
   "source": [
    "# aggregating to find covid counts in each neighborhood for each month from March 2020\n",
    "covid_df = covid_df.filter(covid_df['area_type'] == 'Analysis Neighborhood')\\\n",
    "    .groupBy('Specimen_Collection_Date','id')\\\n",
    "    .agg(sum('New_Confirmed_Cases').alias('daily_new_cases'))\\\n",
    "    .select('Specimen_Collection_Date','id',year(\"Specimen_Collection_Date\").alias('year'), month(\"Specimen_Collection_Date\").alias('month'), 'daily_new_cases')\\\n",
    "    .sort('Specimen_Collection_Date')\\\n",
    "    .groupBy('year','month','id')\\\n",
    "    .agg(sum('daily_new_cases').alias('monthly_cases'))\\\n",
    "    .sort(['id', 'year', 'month'])\\\n",
    "    .join(population, 'id', 'left_outer')\\\n",
    "    .select('id', 'year', 'month', 'monthly_cases', 'acs_population')\\\n",
    "    .distinct()"
   ]
  },
  {
   "cell_type": "code",
   "execution_count": null,
   "metadata": {
    "application/vnd.databricks.v1+cell": {
     "inputWidgets": {},
     "nuid": "ca0e4b23-86d4-48d4-b5ac-4245499acbdc",
     "showTitle": false,
     "title": ""
    }
   },
   "outputs": [
    {
     "data": {
      "text/html": [
       "<style scoped>\n",
       "  .ansiout {\n",
       "    display: block;\n",
       "    unicode-bidi: embed;\n",
       "    white-space: pre-wrap;\n",
       "    word-wrap: break-word;\n",
       "    word-break: break-all;\n",
       "    font-family: \"Source Code Pro\", \"Menlo\", monospace;;\n",
       "    font-size: 13px;\n",
       "    color: #555;\n",
       "    margin-left: 4px;\n",
       "    line-height: 19px;\n",
       "  }\n",
       "</style>\n",
       "<div class=\"ansiout\"></div>"
      ]
     },
     "metadata": {
      "application/vnd.databricks.v1+output": {
       "addedWidgets": {},
       "arguments": {},
       "data": "<div class=\"ansiout\"></div>",
       "datasetInfos": [],
       "metadata": {},
       "removedWidgets": [],
       "type": "html"
      }
     },
     "output_type": "display_data"
    }
   ],
   "source": [
    "# calculating covid case %age in each neighborhood in each month\n",
    "covid_df = covid_df.select('id', 'year', 'month','monthly_cases', 'acs_population', round((covid_df['monthly_cases']/covid_df['acs_population']) * 100, 2).alias(\n",
    "'percent_population_with_covid')).sort(['year', 'month','id'])"
   ]
  },
  {
   "cell_type": "code",
   "execution_count": null,
   "metadata": {
    "application/vnd.databricks.v1+cell": {
     "inputWidgets": {},
     "nuid": "d6f266e8-7494-4d74-8ef6-469b61bf06ad",
     "showTitle": false,
     "title": ""
    }
   },
   "outputs": [
    {
     "data": {
      "text/html": [
       "<style scoped>\n",
       "  .ansiout {\n",
       "    display: block;\n",
       "    unicode-bidi: embed;\n",
       "    white-space: pre-wrap;\n",
       "    word-wrap: break-word;\n",
       "    word-break: break-all;\n",
       "    font-family: \"Source Code Pro\", \"Menlo\", monospace;;\n",
       "    font-size: 13px;\n",
       "    color: #555;\n",
       "    margin-left: 4px;\n",
       "    line-height: 19px;\n",
       "  }\n",
       "</style>\n",
       "<div class=\"ansiout\"></div>"
      ]
     },
     "metadata": {
      "application/vnd.databricks.v1+output": {
       "addedWidgets": {},
       "arguments": {},
       "data": "<div class=\"ansiout\"></div>",
       "datasetInfos": [],
       "metadata": {},
       "removedWidgets": [],
       "type": "html"
      }
     },
     "output_type": "display_data"
    }
   ],
   "source": [
    "#calculating total number of monthly covid cases across SF\n",
    "total_covid_cases_per_month = covid_df.groupBy('year', 'month').agg(sum('monthly_cases').alias('total_cases'))"
   ]
  },
  {
   "cell_type": "markdown",
   "metadata": {
    "application/vnd.databricks.v1+cell": {
     "inputWidgets": {},
     "nuid": "cdfbfecb-bbbe-4a19-a135-6028a1e1c26a",
     "showTitle": false,
     "title": ""
    }
   },
   "source": [
    "## 2. Business data"
   ]
  },
  {
   "cell_type": "code",
   "execution_count": null,
   "metadata": {
    "application/vnd.databricks.v1+cell": {
     "inputWidgets": {},
     "nuid": "30f91cdc-7733-4577-9be7-5eaa0b439bf2",
     "showTitle": false,
     "title": ""
    }
   },
   "outputs": [
    {
     "data": {
      "text/html": [
       "<style scoped>\n",
       "  .ansiout {\n",
       "    display: block;\n",
       "    unicode-bidi: embed;\n",
       "    white-space: pre-wrap;\n",
       "    word-wrap: break-word;\n",
       "    word-break: break-all;\n",
       "    font-family: \"Source Code Pro\", \"Menlo\", monospace;;\n",
       "    font-size: 13px;\n",
       "    color: #555;\n",
       "    margin-left: 4px;\n",
       "    line-height: 19px;\n",
       "  }\n",
       "</style>\n",
       "<div class=\"ansiout\"></div>"
      ]
     },
     "metadata": {
      "application/vnd.databricks.v1+output": {
       "addedWidgets": {},
       "arguments": {},
       "data": "<div class=\"ansiout\"></div>",
       "datasetInfos": [],
       "metadata": {},
       "removedWidgets": [],
       "type": "html"
      }
     },
     "output_type": "display_data"
    }
   ],
   "source": [
    "schema = StructType([ StructField(\"location_id\", StringType(), True),\n",
    "                      StructField(\"bus_accnt_num\", StringType(), False),\n",
    "                      StructField(\"Owner_name\", StringType(), True),\n",
    "                      StructField(\"DBA_name\", StringType(), True),\n",
    "                      StructField(\"address\", StringType(), True),\n",
    "                      StructField(\"city\", StringType(), True),\n",
    "                      StructField(\"state\", StringType(), True),\n",
    "                     StructField(\"zipcode\", StringType(), True),\n",
    "                     StructField(\"bus_start_date\", DateType(), True),\n",
    "                     StructField(\"bus_end_date\", DateType(), True),\n",
    "                     StructField(\"loc_start_date\", DateType(), True),\n",
    "                     StructField(\"loc_end_date\", DateType(), True),\n",
    "#                      StructField(\"mail_address\", StringType(), True),\n",
    "#                      StructField(\"mail_city\", StringType(), True),\n",
    "#                      StructField(\"mail_zipcode\", StringType(), True),\n",
    "#                      StructField(\"mail_state\", StringType(), True),\n",
    "                     StructField(\"NAICS_code\", StringType(), True),\n",
    "                     StructField(\"NAICS_code_desc\", StringType(), True),\n",
    "                     StructField(\"parking_tax\", StringType(), True),\n",
    "                     StructField(\"transient_occ_tax\", StringType(), True),\n",
    "#                      StructField(\"LIC_code\", StringType(), True),\n",
    "#                      StructField(\"LIC_code_desc\", StringType(), True),\n",
    "                     StructField(\"supervisor_dist\", StringType(), True),\n",
    "                     StructField(\"neigh_analysis\", StringType(), True),\n",
    "                     StructField(\"bus_corr\", StringType(), True),\n",
    "                     StructField(\"bus_loc\", StringType(), True),\n",
    "                     StructField(\"uniqueID\", StringType(), True),\n",
    "                     StructField(\"SF_neighbourhoods\", StringType(), True),\n",
    "                     StructField(\"Police_district\", StringType(), True),\n",
    "                     StructField(\"current_super_dist\", StringType(), True),\n",
    "                     StructField(\"analysis_neighbor\", StringType(), True),\n",
    "                     StructField(\"neighborhoods\", StringType(), True)\n",
    "                    ])"
   ]
  },
  {
   "cell_type": "code",
   "execution_count": null,
   "metadata": {
    "application/vnd.databricks.v1+cell": {
     "inputWidgets": {},
     "nuid": "9fd6883c-1797-4c2c-9515-f9d4dbc31c1c",
     "showTitle": false,
     "title": ""
    }
   },
   "outputs": [
    {
     "data": {
      "text/html": [
       "<style scoped>\n",
       "  .ansiout {\n",
       "    display: block;\n",
       "    unicode-bidi: embed;\n",
       "    white-space: pre-wrap;\n",
       "    word-wrap: break-word;\n",
       "    word-break: break-all;\n",
       "    font-family: \"Source Code Pro\", \"Menlo\", monospace;;\n",
       "    font-size: 13px;\n",
       "    color: #555;\n",
       "    margin-left: 4px;\n",
       "    line-height: 19px;\n",
       "  }\n",
       "</style>\n",
       "<div class=\"ansiout\">286179\n",
       "</div>"
      ]
     },
     "metadata": {
      "application/vnd.databricks.v1+output": {
       "addedWidgets": {},
       "arguments": {},
       "data": "<div class=\"ansiout\">286179\n</div>",
       "datasetInfos": [],
       "metadata": {},
       "removedWidgets": [],
       "type": "html"
      }
     },
     "output_type": "display_data"
    }
   ],
   "source": [
    "#Reading the SF business data\n",
    "business = sc.textFile(\"s3://msds697distdata/Registered_Business_Locations_-_San_Francisco.tsv\").map(lambda x : x.split('\\t'))\n",
    "def DateSafe(value):\n",
    "    try:\n",
    "        return datetime.strptime(value, '%m/%d/%Y')\n",
    "    except:\n",
    "        return None\n",
    "    \n",
    "    \n",
    "head = business.first()\n",
    "print(business.count())\n",
    "business = business.filter(lambda x: x != head)\\\n",
    "                   .map(lambda x:(x[0], x[1], x[2], x[3], x[4], x[5], x[6], IntegerSafe(x[7]),\\\n",
    "                          DateSafe(x[8]),DateSafe(x[9]), DateSafe(x[10]), DateSafe(x[11]),\\\n",
    "#                         x[12], x[13],IntSafe(x[14]), x[15], \n",
    "                          x[16], x[17], BoolSafe(x[18]), BoolSafe(x[19]), x[22], x[23], x[24], x[25], x[26],\\\n",
    "                          IntegerSafe(x[27]),IntegerSafe(x[28]),IntegerSafe(x[29]), IntegerSafe(x[30]),IntegerSafe(x[31]))) \n",
    "\n",
    "business.count()\n",
    "business_df = spark.createDataFrame(business, schema)"
   ]
  },
  {
   "cell_type": "code",
   "execution_count": null,
   "metadata": {
    "application/vnd.databricks.v1+cell": {
     "inputWidgets": {},
     "nuid": "ac08a7d7-03e9-4bf3-904b-110daa501c8c",
     "showTitle": false,
     "title": ""
    }
   },
   "outputs": [
    {
     "data": {
      "text/html": [
       "<style scoped>\n",
       "  .ansiout {\n",
       "    display: block;\n",
       "    unicode-bidi: embed;\n",
       "    white-space: pre-wrap;\n",
       "    word-wrap: break-word;\n",
       "    word-break: break-all;\n",
       "    font-family: \"Source Code Pro\", \"Menlo\", monospace;;\n",
       "    font-size: 13px;\n",
       "    color: #555;\n",
       "    margin-left: 4px;\n",
       "    line-height: 19px;\n",
       "  }\n",
       "</style>\n",
       "<div class=\"ansiout\"></div>"
      ]
     },
     "metadata": {
      "application/vnd.databricks.v1+output": {
       "addedWidgets": {},
       "arguments": {},
       "data": "<div class=\"ansiout\"></div>",
       "datasetInfos": [],
       "metadata": {},
       "removedWidgets": [],
       "type": "html"
      }
     },
     "output_type": "display_data"
    }
   ],
   "source": [
    "# Removing missing neighborhoods as they are outside San Francisco\n",
    "business_df = business_df.filter(\"neigh_analysis != '' and state == 'CA'\").drop('state', 'city')"
   ]
  },
  {
   "cell_type": "code",
   "execution_count": null,
   "metadata": {
    "application/vnd.databricks.v1+cell": {
     "inputWidgets": {},
     "nuid": "494ec4f6-c96d-4737-a896-c44bdaf56fff",
     "showTitle": false,
     "title": ""
    }
   },
   "outputs": [
    {
     "data": {
      "text/html": [
       "<style scoped>\n",
       "  .ansiout {\n",
       "    display: block;\n",
       "    unicode-bidi: embed;\n",
       "    white-space: pre-wrap;\n",
       "    word-wrap: break-word;\n",
       "    word-break: break-all;\n",
       "    font-family: \"Source Code Pro\", \"Menlo\", monospace;;\n",
       "    font-size: 13px;\n",
       "    color: #555;\n",
       "    margin-left: 4px;\n",
       "    line-height: 19px;\n",
       "  }\n",
       "</style>\n",
       "<div class=\"ansiout\">Distinct count of department &amp; salary : 232341\n",
       "</div>"
      ]
     },
     "metadata": {
      "application/vnd.databricks.v1+output": {
       "addedWidgets": {},
       "arguments": {},
       "data": "<div class=\"ansiout\">Distinct count of department &amp; salary : 232341\n</div>",
       "datasetInfos": [],
       "metadata": {},
       "removedWidgets": [],
       "type": "html"
      }
     },
     "output_type": "display_data"
    }
   ],
   "source": [
    "# Removing duplicates on the basis of owner name, DBA name, address and business start and end dates\n",
    "dropbusDF = business_df.dropDuplicates([\"Owner_name\",\"DBA_name\",\"bus_start_date\",\"address\",\"bus_end_date\"])\n",
    "print(\"Distinct count of department & salary : \"+str(dropbusDF.count()))"
   ]
  },
  {
   "cell_type": "code",
   "execution_count": null,
   "metadata": {
    "application/vnd.databricks.v1+cell": {
     "inputWidgets": {},
     "nuid": "e8cae505-83de-47de-b4e0-4fff09d2eb48",
     "showTitle": false,
     "title": ""
    }
   },
   "outputs": [
    {
     "data": {
      "text/html": [
       "<style scoped>\n",
       "  .ansiout {\n",
       "    display: block;\n",
       "    unicode-bidi: embed;\n",
       "    white-space: pre-wrap;\n",
       "    word-wrap: break-word;\n",
       "    word-break: break-all;\n",
       "    font-family: \"Source Code Pro\", \"Menlo\", monospace;;\n",
       "    font-size: 13px;\n",
       "    color: #555;\n",
       "    margin-left: 4px;\n",
       "    line-height: 19px;\n",
       "  }\n",
       "</style>\n",
       "<div class=\"ansiout\">+--------------+-------------+--------------------+--------------------+--------------------+-------+--------------+------------+--------------+------------+--------------------+--------------------+-----------+-----------------+---------------+--------------------+--------+--------------------+--------------------+-----------------+---------------+------------------+-----------------+-------------+\n",
       "   location_id|bus_accnt_num|          Owner_name|            DBA_name|             address|zipcode|bus_start_date|bus_end_date|loc_start_date|loc_end_date|          NAICS_code|     NAICS_code_desc|parking_tax|transient_occ_tax|supervisor_dist|      neigh_analysis|bus_corr|             bus_loc|            uniqueID|SF_neighbourhoods|Police_district|current_super_dist|analysis_neighbor|neighborhoods|\n",
       "+--------------+-------------+--------------------+--------------------+--------------------+-------+--------------+------------+--------------+------------+--------------------+--------------------+-----------+-----------------+---------------+--------------------+--------+--------------------+--------------------+-----------------+---------------+------------------+-----------------+-------------+\n",
       "1259359-09-201|      1117215|         !High Frog!|         !High Frog!|1750 Sacramento S...|  94109|    2020-09-04|        null|    2020-09-04|        null| 7100-7199 7220-7229|            Multiple|      false|            false|              3|            Nob Hill|        |POINT (-122.42171...|1259359-09-201-11...|              105|              4|                 3|               21|          105|\n",
       "1121809-09-161|      1058627|&#34;Elizabeth &#34;&#34;Liz&#34;...|&#34;Elizabeth &#34;&#34;Liz&#34;...|225 Hartford St U...|  94114|    2016-09-20|  2019-01-01|    2016-09-20|  2019-01-01|           6100-6299|Private Education...|      false|            false|              8| Castro/Upper Market|        |POINT (-122.43367...|1121809-09-161-10...|              115|              3|                 5|                5|          115|\n",
       "0430837-01-001|      0430837|&#34;Fasioen-Delbeek ...|     Studio In Bloom|         456 4th Ave|  94118|    2008-07-23|  2014-06-30|    2008-07-23|  2014-06-30|                    |                    |      false|            false|              1|      Inner Richmond|        |POINT (-122.46173...|0430837-01-001-04...|                5|              8|                 4|               11|            5|\n",
       "1294919-01-221|      1130970|&#34;John Henry &#34;&#34;Man...|&#34;John Henry &#34;&#34;Man...|    309 Holloway Ave|  94112|    2021-09-01|        null|    2021-09-01|        null|                    |                    |      false|            false|             11|Oceanview/Merced/...|        |POINT (-122.45632...|1294919-01-221-11...|               64|             10|                 1|               24|           64|\n",
       "0480634-01-001|      0480634| &#34;Pawz &#34;&#34;R&#34;&#34; Us Llc&#34;|       Pawz R Us Llc|     755 Green St 2e|  94133|    2013-06-15|  2018-06-30|    2013-06-15|  2018-06-30|                    |                    |      false|            false|              3|           Chinatown|        |POINT (-122.41160...|0480634-01-001-04...|              107|              6|                 3|                6|          107|\n",
       "0480634-02-001|      0480634| &#34;Pawz &#34;&#34;R&#34;&#34; Us Llc&#34;|  The Wizard Of Pawz|     755 Green St 2e|  94133|    2013-06-15|  2018-06-30|    2013-06-15|  2018-06-30|                    |                    |      false|            false|              3|           Chinatown|        |POINT (-122.41160...|0480634-02-001-04...|              107|              6|                 3|                6|          107|\n",
       "1289684-10-211|      1128968|&#34;S.m.e &#34;&#34;Samoends...|&#34;S.m.e &#34;&#34;Samoends...|    26 Northridge Rd|  94124|    2021-10-15|        null|    2021-10-15|        null|           4400-4599|        Retail Trade|      false|            false|             10|Bayview Hunters P...|        |POINT (-122.37491...|1289684-10-211-11...|               78|              2|                 9|                1|           78|\n",
       "1293533-12-211|      1130442|&#34;The &#34;&#34;Perfect&#34;&#34; ...|&#34;The &#34;&#34;Perfect&#34;&#34; ...|735 Taylor St Apt...|  94108|    2021-12-15|        null|    2021-12-15|        null|5600-5699 7100-71...|            Multiple|      false|            false|              3|            Nob Hill|        |POINT (-122.41234...|1293533-12-211-11...|               50|              6|                 3|               21|           50|\n",
       "0393138-01-001|      0393138|      #10 Sports Llc|      #10 Sports Llc|444 Townsend St  ...|  94107|    2005-10-31|  2014-09-01|    2005-10-31|  2014-09-01|                    |                    |      false|            false|              6|         Mission Bay|        |POINT (-122.39824...|0393138-01-001-03...|               32|              1|                10|                4|           32|\n",
       "1208914-01-191|      1096501|     &amp;Open Gifts Inc|     &amp;Open Gifts Inc|     1161 Mission St|  94103|    2017-07-01|        null|    2017-07-01|        null|           4400-4599|        Retail Trade|      false|            false|              6|     South of Market|        |POINT (-122.41222...|1208914-01-191-10...|               32|              1|                10|               34|           32|\n",
       "+--------------+-------------+--------------------+--------------------+--------------------+-------+--------------+------------+--------------+------------+--------------------+--------------------+-----------+-----------------+---------------+--------------------+--------+--------------------+--------------------+-----------------+---------------+------------------+-----------------+-------------+\n",
       "only showing top 10 rows\n",
       "\n",
       "</div>"
      ]
     },
     "metadata": {
      "application/vnd.databricks.v1+output": {
       "addedWidgets": {},
       "arguments": {},
       "data": "<div class=\"ansiout\">+--------------+-------------+--------------------+--------------------+--------------------+-------+--------------+------------+--------------+------------+--------------------+--------------------+-----------+-----------------+---------------+--------------------+--------+--------------------+--------------------+-----------------+---------------+------------------+-----------------+-------------+\n|   location_id|bus_accnt_num|          Owner_name|            DBA_name|             address|zipcode|bus_start_date|bus_end_date|loc_start_date|loc_end_date|          NAICS_code|     NAICS_code_desc|parking_tax|transient_occ_tax|supervisor_dist|      neigh_analysis|bus_corr|             bus_loc|            uniqueID|SF_neighbourhoods|Police_district|current_super_dist|analysis_neighbor|neighborhoods|\n+--------------+-------------+--------------------+--------------------+--------------------+-------+--------------+------------+--------------+------------+--------------------+--------------------+-----------+-----------------+---------------+--------------------+--------+--------------------+--------------------+-----------------+---------------+------------------+-----------------+-------------+\n|1259359-09-201|      1117215|         !High Frog!|         !High Frog!|1750 Sacramento S...|  94109|    2020-09-04|        null|    2020-09-04|        null| 7100-7199 7220-7229|            Multiple|      false|            false|              3|            Nob Hill|        |POINT (-122.42171...|1259359-09-201-11...|              105|              4|                 3|               21|          105|\n|1121809-09-161|      1058627|&#34;Elizabeth &#34;&#34;Liz&#34;...|&#34;Elizabeth &#34;&#34;Liz&#34;...|225 Hartford St U...|  94114|    2016-09-20|  2019-01-01|    2016-09-20|  2019-01-01|           6100-6299|Private Education...|      false|            false|              8| Castro/Upper Market|        |POINT (-122.43367...|1121809-09-161-10...|              115|              3|                 5|                5|          115|\n|0430837-01-001|      0430837|&#34;Fasioen-Delbeek ...|     Studio In Bloom|         456 4th Ave|  94118|    2008-07-23|  2014-06-30|    2008-07-23|  2014-06-30|                    |                    |      false|            false|              1|      Inner Richmond|        |POINT (-122.46173...|0430837-01-001-04...|                5|              8|                 4|               11|            5|\n|1294919-01-221|      1130970|&#34;John Henry &#34;&#34;Man...|&#34;John Henry &#34;&#34;Man...|    309 Holloway Ave|  94112|    2021-09-01|        null|    2021-09-01|        null|                    |                    |      false|            false|             11|Oceanview/Merced/...|        |POINT (-122.45632...|1294919-01-221-11...|               64|             10|                 1|               24|           64|\n|0480634-01-001|      0480634| &#34;Pawz &#34;&#34;R&#34;&#34; Us Llc&#34;|       Pawz R Us Llc|     755 Green St 2e|  94133|    2013-06-15|  2018-06-30|    2013-06-15|  2018-06-30|                    |                    |      false|            false|              3|           Chinatown|        |POINT (-122.41160...|0480634-01-001-04...|              107|              6|                 3|                6|          107|\n|0480634-02-001|      0480634| &#34;Pawz &#34;&#34;R&#34;&#34; Us Llc&#34;|  The Wizard Of Pawz|     755 Green St 2e|  94133|    2013-06-15|  2018-06-30|    2013-06-15|  2018-06-30|                    |                    |      false|            false|              3|           Chinatown|        |POINT (-122.41160...|0480634-02-001-04...|              107|              6|                 3|                6|          107|\n|1289684-10-211|      1128968|&#34;S.m.e &#34;&#34;Samoends...|&#34;S.m.e &#34;&#34;Samoends...|    26 Northridge Rd|  94124|    2021-10-15|        null|    2021-10-15|        null|           4400-4599|        Retail Trade|      false|            false|             10|Bayview Hunters P...|        |POINT (-122.37491...|1289684-10-211-11...|               78|              2|                 9|                1|           78|\n|1293533-12-211|      1130442|&#34;The &#34;&#34;Perfect&#34;&#34; ...|&#34;The &#34;&#34;Perfect&#34;&#34; ...|735 Taylor St Apt...|  94108|    2021-12-15|        null|    2021-12-15|        null|5600-5699 7100-71...|            Multiple|      false|            false|              3|            Nob Hill|        |POINT (-122.41234...|1293533-12-211-11...|               50|              6|                 3|               21|           50|\n|0393138-01-001|      0393138|      #10 Sports Llc|      #10 Sports Llc|444 Townsend St  ...|  94107|    2005-10-31|  2014-09-01|    2005-10-31|  2014-09-01|                    |                    |      false|            false|              6|         Mission Bay|        |POINT (-122.39824...|0393138-01-001-03...|               32|              1|                10|                4|           32|\n|1208914-01-191|      1096501|     &amp;Open Gifts Inc|     &amp;Open Gifts Inc|     1161 Mission St|  94103|    2017-07-01|        null|    2017-07-01|        null|           4400-4599|        Retail Trade|      false|            false|              6|     South of Market|        |POINT (-122.41222...|1208914-01-191-10...|               32|              1|                10|               34|           32|\n+--------------+-------------+--------------------+--------------------+--------------------+-------+--------------+------------+--------------+------------+--------------------+--------------------+-----------+-----------------+---------------+--------------------+--------+--------------------+--------------------+-----------------+---------------+------------------+-----------------+-------------+\nonly showing top 10 rows\n\n</div>",
       "datasetInfos": [],
       "metadata": {},
       "removedWidgets": [],
       "type": "html"
      }
     },
     "output_type": "display_data"
    }
   ],
   "source": [
    "dropbusDF.show(10)"
   ]
  },
  {
   "cell_type": "markdown",
   "metadata": {
    "application/vnd.databricks.v1+cell": {
     "inputWidgets": {},
     "nuid": "bd991498-dfcf-411e-abb5-da775673e7b9",
     "showTitle": false,
     "title": ""
    }
   },
   "source": [
    "##  3.Crime data"
   ]
  },
  {
   "cell_type": "code",
   "execution_count": null,
   "metadata": {
    "application/vnd.databricks.v1+cell": {
     "inputWidgets": {},
     "nuid": "6c05c156-157e-4140-a544-52580a10cfb2",
     "showTitle": false,
     "title": ""
    }
   },
   "outputs": [
    {
     "data": {
      "text/html": [
       "<style scoped>\n",
       "  .ansiout {\n",
       "    display: block;\n",
       "    unicode-bidi: embed;\n",
       "    white-space: pre-wrap;\n",
       "    word-wrap: break-word;\n",
       "    word-break: break-all;\n",
       "    font-family: \"Source Code Pro\", \"Menlo\", monospace;;\n",
       "    font-size: 13px;\n",
       "    color: #555;\n",
       "    margin-left: 4px;\n",
       "    line-height: 19px;\n",
       "  }\n",
       "</style>\n",
       "<div class=\"ansiout\"></div>"
      ]
     },
     "metadata": {
      "application/vnd.databricks.v1+output": {
       "addedWidgets": {},
       "arguments": {},
       "data": "<div class=\"ansiout\"></div>",
       "datasetInfos": [],
       "metadata": {},
       "removedWidgets": [],
       "type": "html"
      }
     },
     "output_type": "display_data"
    }
   ],
   "source": [
    "#Reading SF crime data\n",
    "crime = sc.textFile(\"s3://msds697distdata/Police_Department_Incident_Reports__2018_to_Present.csv\").map(lambda x : x.split(','))\n",
    "\n",
    "columns = crime.first()\n",
    "crime = crime.filter(lambda x: x!=columns)"
   ]
  },
  {
   "cell_type": "code",
   "execution_count": null,
   "metadata": {
    "application/vnd.databricks.v1+cell": {
     "inputWidgets": {},
     "nuid": "031955ed-6149-4582-b9b2-3edb5d085b0d",
     "showTitle": false,
     "title": ""
    }
   },
   "outputs": [
    {
     "data": {
      "text/html": [
       "<style scoped>\n",
       "  .ansiout {\n",
       "    display: block;\n",
       "    unicode-bidi: embed;\n",
       "    white-space: pre-wrap;\n",
       "    word-wrap: break-word;\n",
       "    word-break: break-all;\n",
       "    font-family: \"Source Code Pro\", \"Menlo\", monospace;;\n",
       "    font-size: 13px;\n",
       "    color: #555;\n",
       "    margin-left: 4px;\n",
       "    line-height: 19px;\n",
       "  }\n",
       "</style>\n",
       "<div class=\"ansiout\"></div>"
      ]
     },
     "metadata": {
      "application/vnd.databricks.v1+output": {
       "addedWidgets": {},
       "arguments": {},
       "data": "<div class=\"ansiout\"></div>",
       "datasetInfos": [],
       "metadata": {},
       "removedWidgets": [],
       "type": "html"
      }
     },
     "output_type": "display_data"
    }
   ],
   "source": [
    "\n",
    "def TimeSafe(inval):\n",
    "    inval = inval.strip(\"\\'\") # Timestamp starting and ending with a double quotation mark.\n",
    "    try:\n",
    "        return datetime.strptime(inval, \"%Y/%m/%d\")\n",
    "    except ValueError:\n",
    "        return None\n",
    "    \n",
    "    \n",
    "crime = crime.map(lambda x:[TimeSafe(x[1]),\n",
    "                            x[14],\n",
    "                            x[21],\n",
    "                            FloatSafe(x[23]),\n",
    "                            FloatSafe(x[24]),\n",
    "                            x[25]\n",
    "                            ])\n",
    "\n",
    "\n",
    "schema_crime = StructType([\n",
    "                          StructField('Incident Date',DateType(),True),\n",
    "                          StructField('Incident Category',StringType(),True),\n",
    "                          StructField('Analysis Neighborhood',StringType(),True),\n",
    "                          StructField('Latitude',FloatType(),True),\n",
    "                          StructField('Longitude',FloatType(),True),\n",
    "                         StructField('Point',StringType(),True)])\n",
    "                          \n",
    "\n",
    "df_crime = spark.createDataFrame(crime, schema_crime)"
   ]
  },
  {
   "cell_type": "code",
   "execution_count": null,
   "metadata": {
    "application/vnd.databricks.v1+cell": {
     "inputWidgets": {},
     "nuid": "8600ceef-c59d-4fc2-9b00-9e8a09e7f2f4",
     "showTitle": false,
     "title": ""
    }
   },
   "outputs": [
    {
     "data": {
      "text/html": [
       "<style scoped>\n",
       "  .ansiout {\n",
       "    display: block;\n",
       "    unicode-bidi: embed;\n",
       "    white-space: pre-wrap;\n",
       "    word-wrap: break-word;\n",
       "    word-break: break-all;\n",
       "    font-family: \"Source Code Pro\", \"Menlo\", monospace;;\n",
       "    font-size: 13px;\n",
       "    color: #555;\n",
       "    margin-left: 4px;\n",
       "    line-height: 19px;\n",
       "  }\n",
       "</style>\n",
       "<div class=\"ansiout\">+-------------+------------------+---------------------+--------+-----------+--------------------+\n",
       "Incident Date| Incident Category|Analysis Neighborhood|Latitude|  Longitude|               Point|\n",
       "+-------------+------------------+---------------------+--------+-----------+--------------------+\n",
       "   2021-09-29|Malicious Mischief|            Ingleside|    null|       null|                    |\n",
       "   2021-05-14|             Arson| Bayview Hunters P...|37.74426|-122.387375|POINT (-122.38737...|\n",
       "   2021-03-01|     Lost Property|                     |    null|       null|                    |\n",
       "   2021-04-01|     Lost Property|                     |    null|       null|                    |\n",
       "   2021-06-01|     Larceny Theft|                     |    null|       null|                    |\n",
       "   2021-09-22|     Larceny Theft|                     |    null|       null|                    |\n",
       "   2021-09-17|     Larceny Theft|                     |    null|       null|                    |\n",
       "   2021-05-12|     Larceny Theft|                     |    null|       null|                    |\n",
       "   2021-05-09|     Larceny Theft|                     |    null|       null|                    |\n",
       "   2021-05-11|     Larceny Theft|                     |    null|       null|                    |\n",
       "+-------------+------------------+---------------------+--------+-----------+--------------------+\n",
       "only showing top 10 rows\n",
       "\n",
       "</div>"
      ]
     },
     "metadata": {
      "application/vnd.databricks.v1+output": {
       "addedWidgets": {},
       "arguments": {},
       "data": "<div class=\"ansiout\">+-------------+------------------+---------------------+--------+-----------+--------------------+\n|Incident Date| Incident Category|Analysis Neighborhood|Latitude|  Longitude|               Point|\n+-------------+------------------+---------------------+--------+-----------+--------------------+\n|   2021-09-29|Malicious Mischief|            Ingleside|    null|       null|                    |\n|   2021-05-14|             Arson| Bayview Hunters P...|37.74426|-122.387375|POINT (-122.38737...|\n|   2021-03-01|     Lost Property|                     |    null|       null|                    |\n|   2021-04-01|     Lost Property|                     |    null|       null|                    |\n|   2021-06-01|     Larceny Theft|                     |    null|       null|                    |\n|   2021-09-22|     Larceny Theft|                     |    null|       null|                    |\n|   2021-09-17|     Larceny Theft|                     |    null|       null|                    |\n|   2021-05-12|     Larceny Theft|                     |    null|       null|                    |\n|   2021-05-09|     Larceny Theft|                     |    null|       null|                    |\n|   2021-05-11|     Larceny Theft|                     |    null|       null|                    |\n+-------------+------------------+---------------------+--------+-----------+--------------------+\nonly showing top 10 rows\n\n</div>",
       "datasetInfos": [],
       "metadata": {},
       "removedWidgets": [],
       "type": "html"
      }
     },
     "output_type": "display_data"
    }
   ],
   "source": [
    "df_crime.show(10)"
   ]
  },
  {
   "cell_type": "code",
   "execution_count": null,
   "metadata": {
    "application/vnd.databricks.v1+cell": {
     "inputWidgets": {},
     "nuid": "b0812c5c-9778-4844-9b09-1ca83101b7e9",
     "showTitle": false,
     "title": ""
    }
   },
   "outputs": [
    {
     "data": {
      "text/html": [
       "<style scoped>\n",
       "  .ansiout {\n",
       "    display: block;\n",
       "    unicode-bidi: embed;\n",
       "    white-space: pre-wrap;\n",
       "    word-wrap: break-word;\n",
       "    word-break: break-all;\n",
       "    font-family: \"Source Code Pro\", \"Menlo\", monospace;;\n",
       "    font-size: 13px;\n",
       "    color: #555;\n",
       "    margin-left: 4px;\n",
       "    line-height: 19px;\n",
       "  }\n",
       "</style>\n",
       "<div class=\"ansiout\"></div>"
      ]
     },
     "metadata": {
      "application/vnd.databricks.v1+output": {
       "addedWidgets": {},
       "arguments": {},
       "data": "<div class=\"ansiout\"></div>",
       "datasetInfos": [],
       "metadata": {},
       "removedWidgets": [],
       "type": "html"
      }
     },
     "output_type": "display_data"
    }
   ],
   "source": [
    "# convert date into year and Month\n",
    "df_crime = df_crime.withColumn('year',year(df_crime['Incident Date']))\n",
    "df_crime = df_crime.withColumn('month',month(df_crime['Incident Date']))\n",
    "df_crime = df_crime.withColumnRenamed('Incident Category','IncidentCategory')\n",
    "\n",
    "df_crime = df_crime.withColumnRenamed('Incident Category','IncidentCategory')\n",
    "df_crime = df_crime.withColumnRenamed('Analysis Neighborhood','AnalysisNeighborhood')\n",
    "\n",
    "# Filterout the vehicle recovery from the date\n",
    "\n",
    "df_crime = df_crime.filter(\"IncidentCategory !='Recovered Vehicle'\")\n",
    "\n",
    "# Split crime incident into larceny theft and others Larceny Theft \n",
    "df_crime = df_crime.withColumn('Larceny_theft',df_crime['IncidentCategory']=='Larceny Theft')\n",
    "df_crime = df_crime.withColumn('other_incident',df_crime['IncidentCategory']!='Larceny Theft')\n",
    "\n",
    "# Filter out incidents without addressinfo/latitude neighborhood\n",
    "df_crime = df_crime.filter(\"Latitude IS NOT NULL\")"
   ]
  },
  {
   "cell_type": "code",
   "execution_count": null,
   "metadata": {
    "application/vnd.databricks.v1+cell": {
     "inputWidgets": {},
     "nuid": "83dcad60-a310-4a42-a437-3c633dde8a9c",
     "showTitle": false,
     "title": ""
    }
   },
   "outputs": [
    {
     "data": {
      "text/html": [
       "<style scoped>\n",
       "  .ansiout {\n",
       "    display: block;\n",
       "    unicode-bidi: embed;\n",
       "    white-space: pre-wrap;\n",
       "    word-wrap: break-word;\n",
       "    word-break: break-all;\n",
       "    font-family: \"Source Code Pro\", \"Menlo\", monospace;;\n",
       "    font-size: 13px;\n",
       "    color: #555;\n",
       "    margin-left: 4px;\n",
       "    line-height: 19px;\n",
       "  }\n",
       "</style>\n",
       "<div class=\"ansiout\">+-------------+------------------+--------------------+---------+----------+--------------------+----+-----+-------------+--------------+\n",
       "Incident Date|  IncidentCategory|AnalysisNeighborhood| Latitude| Longitude|               Point|year|month|Larceny_theft|other_incident|\n",
       "+-------------+------------------+--------------------+---------+----------+--------------------+----+-----+-------------+--------------+\n",
       "   2022-01-01|           Robbery|            Northern|      2.0| 37.803493| -122.44527037912071|2022|    1|        false|          true|\n",
       "   2022-01-03|Malicious Mischief|             Taraval|      4.0|  37.74673|   -122.477023892666|2022|    1|        false|          true|\n",
       "   2022-01-03|      Drug Offense|     South of Market|37.778084|-122.40615|POINT (-122.40615...|2022|    1|        false|          true|\n",
       "+-------------+------------------+--------------------+---------+----------+--------------------+----+-----+-------------+--------------+\n",
       "only showing top 3 rows\n",
       "\n",
       "</div>"
      ]
     },
     "metadata": {
      "application/vnd.databricks.v1+output": {
       "addedWidgets": {},
       "arguments": {},
       "data": "<div class=\"ansiout\">+-------------+------------------+--------------------+---------+----------+--------------------+----+-----+-------------+--------------+\n|Incident Date|  IncidentCategory|AnalysisNeighborhood| Latitude| Longitude|               Point|year|month|Larceny_theft|other_incident|\n+-------------+------------------+--------------------+---------+----------+--------------------+----+-----+-------------+--------------+\n|   2022-01-01|           Robbery|            Northern|      2.0| 37.803493| -122.44527037912071|2022|    1|        false|          true|\n|   2022-01-03|Malicious Mischief|             Taraval|      4.0|  37.74673|   -122.477023892666|2022|    1|        false|          true|\n|   2022-01-03|      Drug Offense|     South of Market|37.778084|-122.40615|POINT (-122.40615...|2022|    1|        false|          true|\n+-------------+------------------+--------------------+---------+----------+--------------------+----+-----+-------------+--------------+\nonly showing top 3 rows\n\n</div>",
       "datasetInfos": [],
       "metadata": {},
       "removedWidgets": [],
       "type": "html"
      }
     },
     "output_type": "display_data"
    }
   ],
   "source": [
    "df_crime.orderBy('year',ascending=0).show(3)"
   ]
  },
  {
   "cell_type": "code",
   "execution_count": null,
   "metadata": {
    "application/vnd.databricks.v1+cell": {
     "inputWidgets": {},
     "nuid": "f6dab5a5-2af6-47ff-90ec-edaa5b2df3ba",
     "showTitle": false,
     "title": ""
    }
   },
   "outputs": [
    {
     "data": {
      "text/html": [
       "<style scoped>\n",
       "  .ansiout {\n",
       "    display: block;\n",
       "    unicode-bidi: embed;\n",
       "    white-space: pre-wrap;\n",
       "    word-wrap: break-word;\n",
       "    word-break: break-all;\n",
       "    font-family: \"Source Code Pro\", \"Menlo\", monospace;;\n",
       "    font-size: 13px;\n",
       "    color: #555;\n",
       "    margin-left: 4px;\n",
       "    line-height: 19px;\n",
       "  }\n",
       "</style>\n",
       "<div class=\"ansiout\"></div>"
      ]
     },
     "metadata": {
      "application/vnd.databricks.v1+output": {
       "addedWidgets": {},
       "arguments": {},
       "data": "<div class=\"ansiout\"></div>",
       "datasetInfos": [],
       "metadata": {},
       "removedWidgets": [],
       "type": "html"
      }
     },
     "output_type": "display_data"
    }
   ],
   "source": [
    "# Groupby Neighbothood month and year\n",
    "df_crime_grouped = df_crime.groupBy([df_crime['AnalysisNeighborhood'],df_crime.year,df_crime.month]).count().orderBy('year',ascending=0)"
   ]
  },
  {
   "cell_type": "code",
   "execution_count": null,
   "metadata": {
    "application/vnd.databricks.v1+cell": {
     "inputWidgets": {},
     "nuid": "9c0b26d9-ff17-4f41-9569-637cc74e604a",
     "showTitle": false,
     "title": ""
    }
   },
   "outputs": [
    {
     "data": {
      "text/html": [
       "<style scoped>\n",
       "  .ansiout {\n",
       "    display: block;\n",
       "    unicode-bidi: embed;\n",
       "    white-space: pre-wrap;\n",
       "    word-wrap: break-word;\n",
       "    word-break: break-all;\n",
       "    font-family: \"Source Code Pro\", \"Menlo\", monospace;;\n",
       "    font-size: 13px;\n",
       "    color: #555;\n",
       "    margin-left: 4px;\n",
       "    line-height: 19px;\n",
       "  }\n",
       "</style>\n",
       "<div class=\"ansiout\">+--------------------+----+-----+-----+\n",
       "AnalysisNeighborhood|year|month|count|\n",
       "+--------------------+----+-----+-----+\n",
       "        Hayes Valley|2022|    1|   54|\n",
       "             Central|2022|    1|  221|\n",
       "            Southern|2022|    2|   20|\n",
       "         North Beach|2022|    2|    1|\n",
       "      Open or Active|2022|    1|   59|\n",
       "   Lone Mountain/USF|2022|    1|   23|\n",
       "   Visitacion Valley|2022|    1|   34|\n",
       "             Portola|2022|    2|    2|\n",
       "           Glen Park|2022|    1|   13|\n",
       "      Bernal Heights|2022|    1|   30|\n",
       "+--------------------+----+-----+-----+\n",
       "only showing top 10 rows\n",
       "\n",
       "</div>"
      ]
     },
     "metadata": {
      "application/vnd.databricks.v1+output": {
       "addedWidgets": {},
       "arguments": {},
       "data": "<div class=\"ansiout\">+--------------------+----+-----+-----+\n|AnalysisNeighborhood|year|month|count|\n+--------------------+----+-----+-----+\n|        Hayes Valley|2022|    1|   54|\n|             Central|2022|    1|  221|\n|            Southern|2022|    2|   20|\n|         North Beach|2022|    2|    1|\n|      Open or Active|2022|    1|   59|\n|   Lone Mountain/USF|2022|    1|   23|\n|   Visitacion Valley|2022|    1|   34|\n|             Portola|2022|    2|    2|\n|           Glen Park|2022|    1|   13|\n|      Bernal Heights|2022|    1|   30|\n+--------------------+----+-----+-----+\nonly showing top 10 rows\n\n</div>",
       "datasetInfos": [],
       "metadata": {},
       "removedWidgets": [],
       "type": "html"
      }
     },
     "output_type": "display_data"
    }
   ],
   "source": [
    "df_crime_grouped.show(10)"
   ]
  },
  {
   "cell_type": "markdown",
   "metadata": {
    "application/vnd.databricks.v1+cell": {
     "inputWidgets": {},
     "nuid": "a037ccbe-3410-4270-8789-fc7cde3eba5a",
     "showTitle": false,
     "title": ""
    }
   },
   "source": [
    "# Joining datasets"
   ]
  },
  {
   "cell_type": "code",
   "execution_count": null,
   "metadata": {
    "application/vnd.databricks.v1+cell": {
     "inputWidgets": {},
     "nuid": "faf35c76-dd6c-47f8-a062-28e24ea9dd9a",
     "showTitle": false,
     "title": ""
    }
   },
   "outputs": [
    {
     "data": {
      "text/html": [
       "<style scoped>\n",
       "  .ansiout {\n",
       "    display: block;\n",
       "    unicode-bidi: embed;\n",
       "    white-space: pre-wrap;\n",
       "    word-wrap: break-word;\n",
       "    word-break: break-all;\n",
       "    font-family: \"Source Code Pro\", \"Menlo\", monospace;;\n",
       "    font-size: 13px;\n",
       "    color: #555;\n",
       "    margin-left: 4px;\n",
       "    line-height: 19px;\n",
       "  }\n",
       "</style>\n",
       "<div class=\"ansiout\">232341 984 2612\n",
       "</div>"
      ]
     },
     "metadata": {
      "application/vnd.databricks.v1+output": {
       "addedWidgets": {},
       "arguments": {},
       "data": "<div class=\"ansiout\">232341 984 2612\n</div>",
       "datasetInfos": [],
       "metadata": {},
       "removedWidgets": [],
       "type": "html"
      }
     },
     "output_type": "display_data"
    }
   ],
   "source": [
    "#Rows in each dataset\n",
    "print(dropbusDF.distinct().count(),covid_df.distinct().count(), df_crime_grouped.distinct().count())"
   ]
  },
  {
   "cell_type": "code",
   "execution_count": null,
   "metadata": {
    "application/vnd.databricks.v1+cell": {
     "inputWidgets": {},
     "nuid": "91ee6485-b3d5-46e1-9241-c5ed2a2e6fb8",
     "showTitle": false,
     "title": ""
    }
   },
   "outputs": [
    {
     "data": {
      "text/html": [
       "<style scoped>\n",
       "  .ansiout {\n",
       "    display: block;\n",
       "    unicode-bidi: embed;\n",
       "    white-space: pre-wrap;\n",
       "    word-wrap: break-word;\n",
       "    word-break: break-all;\n",
       "    font-family: \"Source Code Pro\", \"Menlo\", monospace;;\n",
       "    font-size: 13px;\n",
       "    color: #555;\n",
       "    margin-left: 4px;\n",
       "    line-height: 19px;\n",
       "  }\n",
       "</style>\n",
       "<div class=\"ansiout\"></div>"
      ]
     },
     "metadata": {
      "application/vnd.databricks.v1+output": {
       "addedWidgets": {},
       "arguments": {},
       "data": "<div class=\"ansiout\"></div>",
       "datasetInfos": [],
       "metadata": {},
       "removedWidgets": [],
       "type": "html"
      }
     },
     "output_type": "display_data"
    }
   ],
   "source": [
    "#joining crime data to business data\n",
    "joined = dropbusDF.join(df_crime_grouped, df_crime_grouped.AnalysisNeighborhood== dropbusDF.neigh_analysis, 'left_outer')"
   ]
  },
  {
   "cell_type": "code",
   "execution_count": null,
   "metadata": {
    "application/vnd.databricks.v1+cell": {
     "inputWidgets": {},
     "nuid": "1a61baf1-daf1-48e7-ab28-844726d9e639",
     "showTitle": false,
     "title": ""
    }
   },
   "outputs": [
    {
     "data": {
      "text/html": [
       "<style scoped>\n",
       "  .ansiout {\n",
       "    display: block;\n",
       "    unicode-bidi: embed;\n",
       "    white-space: pre-wrap;\n",
       "    word-wrap: break-word;\n",
       "    word-break: break-all;\n",
       "    font-family: \"Source Code Pro\", \"Menlo\", monospace;;\n",
       "    font-size: 13px;\n",
       "    color: #555;\n",
       "    margin-left: 4px;\n",
       "    line-height: 19px;\n",
       "  }\n",
       "</style>\n",
       "<div class=\"ansiout\"></div>"
      ]
     },
     "metadata": {
      "application/vnd.databricks.v1+output": {
       "addedWidgets": {},
       "arguments": {},
       "data": "<div class=\"ansiout\"></div>",
       "datasetInfos": [],
       "metadata": {},
       "removedWidgets": [],
       "type": "html"
      }
     },
     "output_type": "display_data"
    }
   ],
   "source": [
    "#joining the covid data to the above joined data\n",
    "joined_covid = joined.join(covid_df,(covid_df.id== joined.neigh_analysis) & (covid_df.year== joined.year) & (covid_df.month== joined.month), 'left_outer').cache()"
   ]
  },
  {
   "cell_type": "code",
   "execution_count": null,
   "metadata": {
    "application/vnd.databricks.v1+cell": {
     "inputWidgets": {},
     "nuid": "2babd2df-d761-4d28-ade5-9d93c8b0d010",
     "showTitle": false,
     "title": ""
    }
   },
   "outputs": [
    {
     "data": {
      "text/html": [
       "<style scoped>\n",
       "  .ansiout {\n",
       "    display: block;\n",
       "    unicode-bidi: embed;\n",
       "    white-space: pre-wrap;\n",
       "    word-wrap: break-word;\n",
       "    word-break: break-all;\n",
       "    font-family: \"Source Code Pro\", \"Menlo\", monospace;;\n",
       "    font-size: 13px;\n",
       "    color: #555;\n",
       "    margin-left: 4px;\n",
       "    line-height: 19px;\n",
       "  }\n",
       "</style>\n",
       "<div class=\"ansiout\">Out[26]: 11589390</div>"
      ]
     },
     "metadata": {
      "application/vnd.databricks.v1+output": {
       "addedWidgets": {},
       "arguments": {},
       "data": "<div class=\"ansiout\">Out[26]: 11589390</div>",
       "datasetInfos": [],
       "metadata": {},
       "removedWidgets": [],
       "type": "html"
      }
     },
     "output_type": "display_data"
    }
   ],
   "source": [
    "joined_covid.count()"
   ]
  },
  {
   "cell_type": "code",
   "execution_count": null,
   "metadata": {
    "application/vnd.databricks.v1+cell": {
     "inputWidgets": {},
     "nuid": "6f880812-c277-4621-8850-37a3ec169b8d",
     "showTitle": false,
     "title": ""
    }
   },
   "outputs": [
    {
     "data": {
      "text/html": [
       "<style scoped>\n",
       "  .ansiout {\n",
       "    display: block;\n",
       "    unicode-bidi: embed;\n",
       "    white-space: pre-wrap;\n",
       "    word-wrap: break-word;\n",
       "    word-break: break-all;\n",
       "    font-family: \"Source Code Pro\", \"Menlo\", monospace;;\n",
       "    font-size: 13px;\n",
       "    color: #555;\n",
       "    margin-left: 4px;\n",
       "    line-height: 19px;\n",
       "  }\n",
       "</style>\n",
       "<div class=\"ansiout\"></div>"
      ]
     },
     "metadata": {
      "application/vnd.databricks.v1+output": {
       "addedWidgets": {},
       "arguments": {},
       "data": "<div class=\"ansiout\"></div>",
       "datasetInfos": [],
       "metadata": {},
       "removedWidgets": [],
       "type": "html"
      }
     },
     "output_type": "display_data"
    }
   ],
   "source": [
    "#dropping double variables\n",
    "joined_df = joined_covid.drop(covid_df.year).drop(covid_df.month).drop('id')"
   ]
  },
  {
   "cell_type": "code",
   "execution_count": null,
   "metadata": {
    "application/vnd.databricks.v1+cell": {
     "inputWidgets": {},
     "nuid": "9dbf8472-048e-40de-b165-6d39344c6b5a",
     "showTitle": false,
     "title": ""
    }
   },
   "outputs": [
    {
     "data": {
      "text/html": [
       "<style scoped>\n",
       "  .ansiout {\n",
       "    display: block;\n",
       "    unicode-bidi: embed;\n",
       "    white-space: pre-wrap;\n",
       "    word-wrap: break-word;\n",
       "    word-break: break-all;\n",
       "    font-family: \"Source Code Pro\", \"Menlo\", monospace;;\n",
       "    font-size: 13px;\n",
       "    color: #555;\n",
       "    margin-left: 4px;\n",
       "    line-height: 19px;\n",
       "  }\n",
       "</style>\n",
       "<div class=\"ansiout\"></div>"
      ]
     },
     "metadata": {
      "application/vnd.databricks.v1+output": {
       "addedWidgets": {},
       "arguments": {},
       "data": "<div class=\"ansiout\"></div>",
       "datasetInfos": [],
       "metadata": {},
       "removedWidgets": [],
       "type": "html"
      }
     },
     "output_type": "display_data"
    }
   ],
   "source": [
    "#filtering the start and end dates of the business as per our requirement\n",
    "#The data has been made monthly time series for each business as per the neighborhood\n",
    "def year_month(value):\n",
    "    try:\n",
    "        if value < 10:\n",
    "            return \"0\"+ str(value)\n",
    "        return value\n",
    "    except:\n",
    "        return None\n",
    "month_udf = udf(year_month)\n",
    "# Keeping records with start date before the monthly counter date \n",
    "# Keeping accounts with end date either null or end date after 2018 as our data is from 2018\n",
    "# Keeping records with business close date either null or before the monthly counter date\n",
    "\n",
    "final_df = joined_df.withColumn('year_month', concat(col('year'),month_udf(col('month'))))\\\n",
    "            .withColumn('year_month_strt', concat(year('loc_start_date'),month_udf(month('loc_start_date'))))\\\n",
    "            .withColumn('year_month_end', concat(year('loc_end_date'),month_udf(month('loc_end_date'))))\\\n",
    "            .filter(\"year_month_strt <= year_month\")\\\n",
    "            .filter(\"year_month_end IS NULL or year_month_end >= 2018\")\\\n",
    "            .filter(\"year_month_end IS NULL or year_month_end <= year_month\").drop(\"year\").drop(\"month\").cache()"
   ]
  },
  {
   "cell_type": "code",
   "execution_count": null,
   "metadata": {
    "application/vnd.databricks.v1+cell": {
     "inputWidgets": {},
     "nuid": "65b4f38d-0bde-40ab-8108-5c30bc1eb92a",
     "showTitle": false,
     "title": ""
    }
   },
   "outputs": [
    {
     "data": {
      "text/html": [
       "<style scoped>\n",
       "  .ansiout {\n",
       "    display: block;\n",
       "    unicode-bidi: embed;\n",
       "    white-space: pre-wrap;\n",
       "    word-wrap: break-word;\n",
       "    word-break: break-all;\n",
       "    font-family: \"Source Code Pro\", \"Menlo\", monospace;;\n",
       "    font-size: 13px;\n",
       "    color: #555;\n",
       "    margin-left: 4px;\n",
       "    line-height: 19px;\n",
       "  }\n",
       "</style>\n",
       "<div class=\"ansiout\">+--------------+-------------+--------------------+--------------------+-----------------+-------+--------------+------------+--------------+------------+----------+---------------+-----------+-----------------+---------------+--------------------+--------+--------------------+--------------------+-----------------+---------------+------------------+-----------------+-------------+--------------------+-----+-------------+--------------+-----------------------------+----------+---------------+--------------+\n",
       "   location_id|bus_accnt_num|          Owner_name|            DBA_name|          address|zipcode|bus_start_date|bus_end_date|loc_start_date|loc_end_date|NAICS_code|NAICS_code_desc|parking_tax|transient_occ_tax|supervisor_dist|      neigh_analysis|bus_corr|             bus_loc|            uniqueID|SF_neighbourhoods|Police_district|current_super_dist|analysis_neighbor|neighborhoods|AnalysisNeighborhood|count|monthly_cases|acs_population|percent_population_with_covid|year_month|year_month_strt|year_month_end|\n",
       "+--------------+-------------+--------------------+--------------------+-----------------+-------+--------------+------------+--------------+------------+----------+---------------+-----------+-----------------+---------------+--------------------+--------+--------------------+--------------------+-----------------+---------------+------------------+-----------------+-------------+--------------------+-----+-------------+--------------+-----------------------------+----------+---------------+--------------+\n",
       "0467656-01-001|      0467656|   3gear Systems Inc|   3gear Systems Inc|    164 S Park St|  94107|    2012-03-05|  2014-11-26|    2012-03-05|  2014-11-26|          |               |      false|            false|              6|Financial Distric...|        |POINT (-122.39471...|0467656-01-001-04...|               31|              1|                10|                8|           31|Financial Distric...|  286|         null|          null|                         null|    201901|         201203|        201411|\n",
       "1014153-12-141|      0119543|Abm Parking Services|Ampco System Parking|1 Embarcadero Ctr|  94111|    1979-05-01|  2013-12-31|    2014-01-01|  2013-12-31|          |               |      false|            false|              3|Financial Distric...|        |POINT (-122.39648...|1014153-12-141-01...|              108|              6|                 3|                8|          108|Financial Distric...|  286|         null|          null|                         null|    201901|         201401|        201312|\n",
       "+--------------+-------------+--------------------+--------------------+-----------------+-------+--------------+------------+--------------+------------+----------+---------------+-----------+-----------------+---------------+--------------------+--------+--------------------+--------------------+-----------------+---------------+------------------+-----------------+-------------+--------------------+-----+-------------+--------------+-----------------------------+----------+---------------+--------------+\n",
       "only showing top 2 rows\n",
       "\n",
       "</div>"
      ]
     },
     "metadata": {
      "application/vnd.databricks.v1+output": {
       "addedWidgets": {},
       "arguments": {},
       "data": "<div class=\"ansiout\">+--------------+-------------+--------------------+--------------------+-----------------+-------+--------------+------------+--------------+------------+----------+---------------+-----------+-----------------+---------------+--------------------+--------+--------------------+--------------------+-----------------+---------------+------------------+-----------------+-------------+--------------------+-----+-------------+--------------+-----------------------------+----------+---------------+--------------+\n|   location_id|bus_accnt_num|          Owner_name|            DBA_name|          address|zipcode|bus_start_date|bus_end_date|loc_start_date|loc_end_date|NAICS_code|NAICS_code_desc|parking_tax|transient_occ_tax|supervisor_dist|      neigh_analysis|bus_corr|             bus_loc|            uniqueID|SF_neighbourhoods|Police_district|current_super_dist|analysis_neighbor|neighborhoods|AnalysisNeighborhood|count|monthly_cases|acs_population|percent_population_with_covid|year_month|year_month_strt|year_month_end|\n+--------------+-------------+--------------------+--------------------+-----------------+-------+--------------+------------+--------------+------------+----------+---------------+-----------+-----------------+---------------+--------------------+--------+--------------------+--------------------+-----------------+---------------+------------------+-----------------+-------------+--------------------+-----+-------------+--------------+-----------------------------+----------+---------------+--------------+\n|0467656-01-001|      0467656|   3gear Systems Inc|   3gear Systems Inc|    164 S Park St|  94107|    2012-03-05|  2014-11-26|    2012-03-05|  2014-11-26|          |               |      false|            false|              6|Financial Distric...|        |POINT (-122.39471...|0467656-01-001-04...|               31|              1|                10|                8|           31|Financial Distric...|  286|         null|          null|                         null|    201901|         201203|        201411|\n|1014153-12-141|      0119543|Abm Parking Services|Ampco System Parking|1 Embarcadero Ctr|  94111|    1979-05-01|  2013-12-31|    2014-01-01|  2013-12-31|          |               |      false|            false|              3|Financial Distric...|        |POINT (-122.39648...|1014153-12-141-01...|              108|              6|                 3|                8|          108|Financial Distric...|  286|         null|          null|                         null|    201901|         201401|        201312|\n+--------------+-------------+--------------------+--------------------+-----------------+-------+--------------+------------+--------------+------------+----------+---------------+-----------+-----------------+---------------+--------------------+--------+--------------------+--------------------+-----------------+---------------+------------------+-----------------+-------------+--------------------+-----+-------------+--------------+-----------------------------+----------+---------------+--------------+\nonly showing top 2 rows\n\n</div>",
       "datasetInfos": [],
       "metadata": {},
       "removedWidgets": [],
       "type": "html"
      }
     },
     "output_type": "display_data"
    }
   ],
   "source": [
    "final_df.show(2)"
   ]
  },
  {
   "cell_type": "code",
   "execution_count": null,
   "metadata": {
    "application/vnd.databricks.v1+cell": {
     "inputWidgets": {},
     "nuid": "e99f051e-9420-49bb-9347-2f3198814eba",
     "showTitle": false,
     "title": ""
    }
   },
   "outputs": [
    {
     "data": {
      "text/html": [
       "<style scoped>\n",
       "  .ansiout {\n",
       "    display: block;\n",
       "    unicode-bidi: embed;\n",
       "    white-space: pre-wrap;\n",
       "    word-wrap: break-word;\n",
       "    word-break: break-all;\n",
       "    font-family: \"Source Code Pro\", \"Menlo\", monospace;;\n",
       "    font-size: 13px;\n",
       "    color: #555;\n",
       "    margin-left: 4px;\n",
       "    line-height: 19px;\n",
       "  }\n",
       "</style>\n",
       "<div class=\"ansiout\">Out[30]: 9431693</div>"
      ]
     },
     "metadata": {
      "application/vnd.databricks.v1+output": {
       "addedWidgets": {},
       "arguments": {},
       "data": "<div class=\"ansiout\">Out[30]: 9431693</div>",
       "datasetInfos": [],
       "metadata": {},
       "removedWidgets": [],
       "type": "html"
      }
     },
     "output_type": "display_data"
    }
   ],
   "source": [
    "final_df.count()"
   ]
  },
  {
   "cell_type": "code",
   "execution_count": null,
   "metadata": {
    "application/vnd.databricks.v1+cell": {
     "inputWidgets": {},
     "nuid": "8e13bf14-0ac2-48a1-8ff7-5690c467cf29",
     "showTitle": false,
     "title": ""
    }
   },
   "outputs": [
    {
     "data": {
      "text/html": [
       "<style scoped>\n",
       "  .ansiout {\n",
       "    display: block;\n",
       "    unicode-bidi: embed;\n",
       "    white-space: pre-wrap;\n",
       "    word-wrap: break-word;\n",
       "    word-break: break-all;\n",
       "    font-family: \"Source Code Pro\", \"Menlo\", monospace;;\n",
       "    font-size: 13px;\n",
       "    color: #555;\n",
       "    margin-left: 4px;\n",
       "    line-height: 19px;\n",
       "  }\n",
       "</style>\n",
       "<div class=\"ansiout\"></div>"
      ]
     },
     "metadata": {
      "application/vnd.databricks.v1+output": {
       "addedWidgets": {},
       "arguments": {},
       "data": "<div class=\"ansiout\"></div>",
       "datasetInfos": [],
       "metadata": {},
       "removedWidgets": [],
       "type": "html"
      }
     },
     "output_type": "display_data"
    }
   ],
   "source": [
    "# Creating a business closure flag during covid\n",
    "\n",
    "df_closed_flag = final_df.withColumn( 'covid_close_flag_new', when((final_df.year_month_end == final_df.year_month), 1).otherwise(0))\n"
   ]
  },
  {
   "cell_type": "code",
   "execution_count": null,
   "metadata": {
    "application/vnd.databricks.v1+cell": {
     "inputWidgets": {},
     "nuid": "14b4a3f0-0682-4ffa-b526-e92d1c7a474a",
     "showTitle": false,
     "title": ""
    }
   },
   "outputs": [
    {
     "data": {
      "text/html": [
       "<style scoped>\n",
       "  .ansiout {\n",
       "    display: block;\n",
       "    unicode-bidi: embed;\n",
       "    white-space: pre-wrap;\n",
       "    word-wrap: break-word;\n",
       "    word-break: break-all;\n",
       "    font-family: \"Source Code Pro\", \"Menlo\", monospace;;\n",
       "    font-size: 13px;\n",
       "    color: #555;\n",
       "    margin-left: 4px;\n",
       "    line-height: 19px;\n",
       "  }\n",
       "</style>\n",
       "<div class=\"ansiout\">+--------------------+-------+\n",
       "covid_close_flag_new|  count|\n",
       "+--------------------+-------+\n",
       "                   1|  69334|\n",
       "                   0|9362359|\n",
       "+--------------------+-------+\n",
       "\n",
       "</div>"
      ]
     },
     "metadata": {
      "application/vnd.databricks.v1+output": {
       "addedWidgets": {},
       "arguments": {},
       "data": "<div class=\"ansiout\">+--------------------+-------+\n|covid_close_flag_new|  count|\n+--------------------+-------+\n|                   1|  69334|\n|                   0|9362359|\n+--------------------+-------+\n\n</div>",
       "datasetInfos": [],
       "metadata": {},
       "removedWidgets": [],
       "type": "html"
      }
     },
     "output_type": "display_data"
    }
   ],
   "source": [
    "df_closed_flag.groupBy('covid_close_flag_new').count().show()"
   ]
  },
  {
   "cell_type": "code",
   "execution_count": null,
   "metadata": {
    "application/vnd.databricks.v1+cell": {
     "inputWidgets": {},
     "nuid": "3d96d3af-6e0a-4246-953f-c78389504796",
     "showTitle": false,
     "title": ""
    }
   },
   "outputs": [
    {
     "data": {
      "text/html": [
       "<style scoped>\n",
       "  .ansiout {\n",
       "    display: block;\n",
       "    unicode-bidi: embed;\n",
       "    white-space: pre-wrap;\n",
       "    word-wrap: break-word;\n",
       "    word-break: break-all;\n",
       "    font-family: \"Source Code Pro\", \"Menlo\", monospace;;\n",
       "    font-size: 13px;\n",
       "    color: #555;\n",
       "    margin-left: 4px;\n",
       "    line-height: 19px;\n",
       "  }\n",
       "</style>\n",
       "<div class=\"ansiout\"></div>"
      ]
     },
     "metadata": {
      "application/vnd.databricks.v1+output": {
       "addedWidgets": {},
       "arguments": {},
       "data": "<div class=\"ansiout\"></div>",
       "datasetInfos": [],
       "metadata": {},
       "removedWidgets": [],
       "type": "html"
      }
     },
     "output_type": "display_data"
    }
   ],
   "source": [
    "#Missing Value imputation for covid data\n",
    "\n",
    "df_miss_val = df_closed_flag.withColumn(\"monthly_cases\", when((df_closed_flag.monthly_cases.isNull()), 0).otherwise(df_closed_flag.monthly_cases))\\\n",
    "                            .withColumn(\"acs_population\", when((df_closed_flag.acs_population.isNull()), 0).otherwise(df_closed_flag.acs_population))\\\n",
    "                            .withColumn(\"percent_population_with_covid\", when((df_closed_flag.percent_population_with_covid.isNull()), 0).otherwise(df_closed_flag.percent_population_with_covid))"
   ]
  },
  {
   "cell_type": "code",
   "execution_count": null,
   "metadata": {
    "application/vnd.databricks.v1+cell": {
     "inputWidgets": {},
     "nuid": "5611c6a4-02e9-452d-b7c4-326528b58e84",
     "showTitle": false,
     "title": ""
    }
   },
   "outputs": [
    {
     "data": {
      "text/html": [
       "<style scoped>\n",
       "  .ansiout {\n",
       "    display: block;\n",
       "    unicode-bidi: embed;\n",
       "    white-space: pre-wrap;\n",
       "    word-wrap: break-word;\n",
       "    word-break: break-all;\n",
       "    font-family: \"Source Code Pro\", \"Menlo\", monospace;;\n",
       "    font-size: 13px;\n",
       "    color: #555;\n",
       "    margin-left: 4px;\n",
       "    line-height: 19px;\n",
       "  }\n",
       "</style>\n",
       "<div class=\"ansiout\">+--------------+-------------+--------------------+--------------------+-----------------+-------+--------------+------------+--------------+------------+----------+----------------+-----------+-----------------+---------------+--------------------+--------+--------------------+--------------------+-----------------+---------------+------------------+-----------------+-------------+--------------------+-----+-------------+--------------+-----------------------------+----------+---------------+--------------+--------------------+\n",
       "   location_id|bus_accnt_num|          Owner_name|            DBA_name|          address|zipcode|bus_start_date|bus_end_date|loc_start_date|loc_end_date|NAICS_code| NAICS_code_desc|parking_tax|transient_occ_tax|supervisor_dist|      neigh_analysis|bus_corr|             bus_loc|            uniqueID|SF_neighbourhoods|Police_district|current_super_dist|analysis_neighbor|neighborhoods|AnalysisNeighborhood|count|monthly_cases|acs_population|percent_population_with_covid|year_month|year_month_strt|year_month_end|covid_close_flag_new|\n",
       "+--------------+-------------+--------------------+--------------------+-----------------+-------+--------------+------------+--------------+------------+----------+----------------+-----------+-----------------+---------------+--------------------+--------+--------------------+--------------------+-----------------+---------------+------------------+-----------------+-------------+--------------------+-----+-------------+--------------+-----------------------------+----------+---------------+--------------+--------------------+\n",
       "0467656-01-001|      0467656|   3gear Systems Inc|   3gear Systems Inc|    164 S Park St|  94107|    2012-03-05|  2014-11-26|    2012-03-05|  2014-11-26|          |                |      false|            false|              6|Financial Distric...|        |POINT (-122.39471...|0467656-01-001-04...|               31|              1|                10|                8|           31|Financial Distric...|  286|          0.0|           0.0|                          0.0|    201901|         201203|        201411|                   0|\n",
       "1014153-12-141|      0119543|Abm Parking Services|Ampco System Parking|1 Embarcadero Ctr|  94111|    1979-05-01|  2013-12-31|    2014-01-01|  2013-12-31|          |                |      false|            false|              3|Financial Distric...|        |POINT (-122.39648...|1014153-12-141-01...|              108|              6|                 3|                8|          108|Financial Distric...|  286|          0.0|           0.0|                          0.0|    201901|         201401|        201312|                   0|\n",
       "0335856-51-001|      0335856|Ace Parking Manag...| Ace Parking Iii Llc|     201 Spear St|   null|    2000-02-01|        null|    2014-05-01|        null| 8100-8139|Certain Services|      false|            false|              6|Financial Distric...|        |POINT (-122.39242...|0335856-51-001-03...|              108|              1|                10|                8|          108|Financial Distric...|  286|          0.0|           0.0|                          0.0|    201901|         201405|          null|                   0|\n",
       "+--------------+-------------+--------------------+--------------------+-----------------+-------+--------------+------------+--------------+------------+----------+----------------+-----------+-----------------+---------------+--------------------+--------+--------------------+--------------------+-----------------+---------------+------------------+-----------------+-------------+--------------------+-----+-------------+--------------+-----------------------------+----------+---------------+--------------+--------------------+\n",
       "only showing top 3 rows\n",
       "\n",
       "</div>"
      ]
     },
     "metadata": {
      "application/vnd.databricks.v1+output": {
       "addedWidgets": {},
       "arguments": {},
       "data": "<div class=\"ansiout\">+--------------+-------------+--------------------+--------------------+-----------------+-------+--------------+------------+--------------+------------+----------+----------------+-----------+-----------------+---------------+--------------------+--------+--------------------+--------------------+-----------------+---------------+------------------+-----------------+-------------+--------------------+-----+-------------+--------------+-----------------------------+----------+---------------+--------------+--------------------+\n|   location_id|bus_accnt_num|          Owner_name|            DBA_name|          address|zipcode|bus_start_date|bus_end_date|loc_start_date|loc_end_date|NAICS_code| NAICS_code_desc|parking_tax|transient_occ_tax|supervisor_dist|      neigh_analysis|bus_corr|             bus_loc|            uniqueID|SF_neighbourhoods|Police_district|current_super_dist|analysis_neighbor|neighborhoods|AnalysisNeighborhood|count|monthly_cases|acs_population|percent_population_with_covid|year_month|year_month_strt|year_month_end|covid_close_flag_new|\n+--------------+-------------+--------------------+--------------------+-----------------+-------+--------------+------------+--------------+------------+----------+----------------+-----------+-----------------+---------------+--------------------+--------+--------------------+--------------------+-----------------+---------------+------------------+-----------------+-------------+--------------------+-----+-------------+--------------+-----------------------------+----------+---------------+--------------+--------------------+\n|0467656-01-001|      0467656|   3gear Systems Inc|   3gear Systems Inc|    164 S Park St|  94107|    2012-03-05|  2014-11-26|    2012-03-05|  2014-11-26|          |                |      false|            false|              6|Financial Distric...|        |POINT (-122.39471...|0467656-01-001-04...|               31|              1|                10|                8|           31|Financial Distric...|  286|          0.0|           0.0|                          0.0|    201901|         201203|        201411|                   0|\n|1014153-12-141|      0119543|Abm Parking Services|Ampco System Parking|1 Embarcadero Ctr|  94111|    1979-05-01|  2013-12-31|    2014-01-01|  2013-12-31|          |                |      false|            false|              3|Financial Distric...|        |POINT (-122.39648...|1014153-12-141-01...|              108|              6|                 3|                8|          108|Financial Distric...|  286|          0.0|           0.0|                          0.0|    201901|         201401|        201312|                   0|\n|0335856-51-001|      0335856|Ace Parking Manag...| Ace Parking Iii Llc|     201 Spear St|   null|    2000-02-01|        null|    2014-05-01|        null| 8100-8139|Certain Services|      false|            false|              6|Financial Distric...|        |POINT (-122.39242...|0335856-51-001-03...|              108|              1|                10|                8|          108|Financial Distric...|  286|          0.0|           0.0|                          0.0|    201901|         201405|          null|                   0|\n+--------------+-------------+--------------------+--------------------+-----------------+-------+--------------+------------+--------------+------------+----------+----------------+-----------+-----------------+---------------+--------------------+--------+--------------------+--------------------+-----------------+---------------+------------------+-----------------+-------------+--------------------+-----+-------------+--------------+-----------------------------+----------+---------------+--------------+--------------------+\nonly showing top 3 rows\n\n</div>",
       "datasetInfos": [],
       "metadata": {},
       "removedWidgets": [],
       "type": "html"
      }
     },
     "output_type": "display_data"
    }
   ],
   "source": [
    "df_miss_val.show(3)"
   ]
  },
  {
   "cell_type": "code",
   "execution_count": null,
   "metadata": {
    "application/vnd.databricks.v1+cell": {
     "inputWidgets": {},
     "nuid": "83529115-2fb8-47b5-ac2e-0c8be068cf0e",
     "showTitle": false,
     "title": ""
    }
   },
   "outputs": [
    {
     "data": {
      "text/html": [
       "<style scoped>\n",
       "  .ansiout {\n",
       "    display: block;\n",
       "    unicode-bidi: embed;\n",
       "    white-space: pre-wrap;\n",
       "    word-wrap: break-word;\n",
       "    word-break: break-all;\n",
       "    font-family: \"Source Code Pro\", \"Menlo\", monospace;;\n",
       "    font-size: 13px;\n",
       "    color: #555;\n",
       "    margin-left: 4px;\n",
       "    line-height: 19px;\n",
       "  }\n",
       "</style>\n",
       "<div class=\"ansiout\">--- 415.87884736061096 seconds ---\n",
       "</div>"
      ]
     },
     "metadata": {
      "application/vnd.databricks.v1+output": {
       "addedWidgets": {},
       "arguments": {},
       "data": "<div class=\"ansiout\">--- 415.87884736061096 seconds ---\n</div>",
       "datasetInfos": [],
       "metadata": {},
       "removedWidgets": [],
       "type": "html"
      }
     },
     "output_type": "display_data"
    }
   ],
   "source": [
    "print(\"--- %s seconds ---\" % (time.time() - start_time))"
   ]
  },
  {
   "cell_type": "markdown",
   "metadata": {
    "application/vnd.databricks.v1+cell": {
     "inputWidgets": {},
     "nuid": "dc393e37-f4bc-499b-b131-9bf662cfb2b0",
     "showTitle": false,
     "title": ""
    }
   },
   "source": [
    "# Connect to MongoDB\n",
    "## Store aggregates in the database and re-read for machine learning later"
   ]
  },
  {
   "cell_type": "code",
   "execution_count": null,
   "metadata": {
    "application/vnd.databricks.v1+cell": {
     "inputWidgets": {},
     "nuid": "9933a5a4-c043-41c0-ad0c-ba82d57ee173",
     "showTitle": false,
     "title": ""
    }
   },
   "outputs": [
    {
     "data": {
      "text/html": [
       "<style scoped>\n",
       "  .ansiout {\n",
       "    display: block;\n",
       "    unicode-bidi: embed;\n",
       "    white-space: pre-wrap;\n",
       "    word-wrap: break-word;\n",
       "    word-break: break-all;\n",
       "    font-family: \"Source Code Pro\", \"Menlo\", monospace;;\n",
       "    font-size: 13px;\n",
       "    color: #555;\n",
       "    margin-left: 4px;\n",
       "    line-height: 19px;\n",
       "  }\n",
       "</style>\n",
       "<div class=\"ansiout\"></div>"
      ]
     },
     "metadata": {
      "application/vnd.databricks.v1+output": {
       "addedWidgets": {},
       "arguments": {},
       "data": "<div class=\"ansiout\"></div>",
       "datasetInfos": [],
       "metadata": {},
       "removedWidgets": [],
       "type": "html"
      }
     },
     "output_type": "display_data"
    }
   ],
   "source": [
    "database = '###'\n",
    "collection = '###'\n",
    "user_name = '###'\n",
    "password = '###'\n",
    "address = 'group-11.akldt.mongodb.net'\n",
    "connection_string = f\"mongodb+srv://{user_name}:{password}@{address}/{database}.{collection}\"\n",
    "# connection_string = f\"mongodb+srv://msds_9:<datasystems>@group-11.akldt.mongodb.net/Group-11\""
   ]
  },
  {
   "cell_type": "code",
   "execution_count": null,
   "metadata": {
    "application/vnd.databricks.v1+cell": {
     "inputWidgets": {},
     "nuid": "ef75263b-f1ca-45b1-b1bd-a946fe1d17e4",
     "showTitle": false,
     "title": ""
    }
   },
   "outputs": [
    {
     "data": {
      "text/html": [
       "<style scoped>\n",
       "  .ansiout {\n",
       "    display: block;\n",
       "    unicode-bidi: embed;\n",
       "    white-space: pre-wrap;\n",
       "    word-wrap: break-word;\n",
       "    word-break: break-all;\n",
       "    font-family: \"Source Code Pro\", \"Menlo\", monospace;;\n",
       "    font-size: 13px;\n",
       "    color: #555;\n",
       "    margin-left: 4px;\n",
       "    line-height: 19px;\n",
       "  }\n",
       "</style>\n",
       "<div class=\"ansiout\"></div>"
      ]
     },
     "metadata": {
      "application/vnd.databricks.v1+output": {
       "addedWidgets": {},
       "arguments": {},
       "data": "<div class=\"ansiout\"></div>",
       "datasetInfos": [],
       "metadata": {},
       "removedWidgets": [],
       "type": "html"
      }
     },
     "output_type": "display_data"
    }
   ],
   "source": [
    "df_miss_val.write.format(\"mongo\").option(\"uri\",connection_string).mode(\"append\").save()"
   ]
  },
  {
   "cell_type": "code",
   "execution_count": null,
   "metadata": {
    "application/vnd.databricks.v1+cell": {
     "inputWidgets": {},
     "nuid": "11d91b04-c7e8-488e-9dcd-ee53ef14c74f",
     "showTitle": false,
     "title": ""
    }
   },
   "outputs": [
    {
     "data": {
      "text/html": [
       "<style scoped>\n",
       "  .ansiout {\n",
       "    display: block;\n",
       "    unicode-bidi: embed;\n",
       "    white-space: pre-wrap;\n",
       "    word-wrap: break-word;\n",
       "    word-break: break-all;\n",
       "    font-family: \"Source Code Pro\", \"Menlo\", monospace;;\n",
       "    font-size: 13px;\n",
       "    color: #555;\n",
       "    margin-left: 4px;\n",
       "    line-height: 19px;\n",
       "  }\n",
       "</style>\n",
       "<div class=\"ansiout\"></div>"
      ]
     },
     "metadata": {
      "application/vnd.databricks.v1+output": {
       "addedWidgets": {},
       "arguments": {},
       "data": "<div class=\"ansiout\"></div>",
       "datasetInfos": [],
       "metadata": {},
       "removedWidgets": [],
       "type": "html"
      }
     },
     "output_type": "display_data"
    }
   ],
   "source": [
    "df = spark.read.format(\"mongo\").option(\"uri\",connection_string).load()"
   ]
  },
  {
   "cell_type": "code",
   "execution_count": null,
   "metadata": {
    "application/vnd.databricks.v1+cell": {
     "inputWidgets": {},
     "nuid": "3926893b-9f19-48dd-aab6-ac9448b423f6",
     "showTitle": false,
     "title": ""
    }
   },
   "outputs": [
    {
     "data": {
      "text/html": [
       "<style scoped>\n",
       "  .ansiout {\n",
       "    display: block;\n",
       "    unicode-bidi: embed;\n",
       "    white-space: pre-wrap;\n",
       "    word-wrap: break-word;\n",
       "    word-break: break-all;\n",
       "    font-family: \"Source Code Pro\", \"Menlo\", monospace;;\n",
       "    font-size: 13px;\n",
       "    color: #555;\n",
       "    margin-left: 4px;\n",
       "    line-height: 19px;\n",
       "  }\n",
       "</style>\n",
       "<div class=\"ansiout\">+--------------------+--------------------+----------+--------------------+--------------------+---------------+-----------------+--------------------+--------------+--------------------+-----------------+-------------+--------+-------------------+--------------------+-------------------+-----+--------------------+------------------+-------------------+-------------------+--------------+-------------+-------------------+-------------+-----------+-----------------------------+---------------+-----------------+--------------------+----------+--------------+---------------+-------+\n",
       "AnalysisNeighborhood|            DBA_name|NAICS_code|     NAICS_code_desc|          Owner_name|Police_district|SF_neighbourhoods|                 _id|acs_population|             address|analysis_neighbor|bus_accnt_num|bus_corr|       bus_end_date|             bus_loc|     bus_start_date|count|covid_close_flag_new|current_super_dist|       loc_end_date|     loc_start_date|   location_id|monthly_cases|     neigh_analysis|neighborhoods|parking_tax|percent_population_with_covid|supervisor_dist|transient_occ_tax|            uniqueID|year_month|year_month_end|year_month_strt|zipcode|\n",
       "+--------------------+--------------------+----------+--------------------+--------------------+---------------+-----------------+--------------------+--------------+--------------------+-----------------+-------------+--------+-------------------+--------------------+-------------------+-----+--------------------+------------------+-------------------+-------------------+--------------+-------------+-------------------+-------------+-----------+-----------------------------+---------------+-----------------+--------------------+----------+--------------+---------------+-------+\n",
       " Castro/Upper Market| 2555 Market St Apts| 5300-5399|Real Estate and R...|     Bsw Corporation|              3|               38|{621bbdfb28d1927b...|           0.0|      2555 Market St|                5|      0374748|        |               null|POINT (-122.43678...|1996-10-31 00:00:00|  127|                   0|                 5|               null|1996-10-31 00:00:00|0374748-01-001|          0.0|Castro/Upper Market|           38|      false|                          0.0|              8|            false|0374748-01-001-03...|    201810|          null|         199610|   null|\n",
       " Castro/Upper Market|Constant Fitness,...| 6100-6299|Private Education...|Constant Fitness,...|              3|               38|{621bbdfb28d1927b...|           0.0|2201 Market St Ste C|                5|      1028501|        |               null|POINT (-122.43104...|2015-10-27 00:00:00|  127|                   0|                 5|2016-04-30 00:00:00|2015-10-27 00:00:00|1058079-03-161|          0.0|Castro/Upper Market|           38|      false|                          0.0|              8|            false|1058079-03-161-10...|    201810|        201604|         201510|  94114|\n",
       " Castro/Upper Market|      Pegus Property| 5300-5399|Real Estate and R...|Dotterweich Micha...|              3|              115|{621bbdfb28d1927b...|           0.0|       183 Eureka St|                5|      1012117|        |               null|POINT (-122.43811...|2015-04-06 00:00:00|  127|                   0|                 5|               null|2015-04-06 00:00:00|1025046-04-151|          0.0|Castro/Upper Market|          115|      false|                          0.0|              8|            false|1025046-04-151-10...|    201810|          null|         201504|  94114|\n",
       " Castro/Upper Market|           Maru Dojo| 7100-7199|Arts, Entertainme...| Feliciano Raymond R|              7|               28|{621bbdfb28d1927b...|           0.0|         736 14th St|                5|      0460757|        |               null|POINT (-122.42974...|2013-04-01 00:00:00|  127|                   0|                 5|               null|2013-04-01 00:00:00|0460757-03-001|          0.0|Castro/Upper Market|           28|      false|                          0.0|              8|            false|0460757-03-001-04...|    201810|          null|         201304|   null|\n",
       " Castro/Upper Market|       Lynn Friedman| 7100-7199|Arts, Entertainme...|       Friedman Lynn|              3|               38|{621bbdfb28d1927b...|           0.0|584 Castro St Uni...|                5|      1024391|        |               null|POINT (-122.43491...|2016-01-16 00:00:00|  127|                   1|                 5|2018-10-25 00:00:00|2017-06-01 00:00:00|1149995-06-171|          0.0|Castro/Upper Market|           38|      false|                          0.0|              8|            false|1149995-06-171-10...|    201810|        201810|         201706|   null|\n",
       "           Chinatown|    737 Pine I1, Llc| 5300-5399|Real Estate and R...|      737 Pine L1 Lp|              6|              104|{621bbdfb28d1927b...|       14438.0|600 California St 20|                6|      1018390|        |               null|POINT (-122.40453...|2014-12-15 00:00:00|   78|                   0|                 3|2020-01-30 00:00:00|2014-12-15 00:00:00|1039582-09-151|          3.0|          Chinatown|          104|      false|                         0.02|              3|            false|1039582-09-151-10...|    202105|        202001|         201412|  94108|\n",
       "           Chinatown| 916 Pacific I5, Llc| 5300-5399|Real Estate and R...| 916 Pacific I5, Llc|              6|              107|{621bbdfb28d1927b...|       14438.0|     916 Pacific Ave|                6|      1066396|        |               null|POINT (-122.41033...|2016-12-14 00:00:00|   78|                   0|                 3|               null|2016-12-14 00:00:00|1138193-02-171|          3.0|          Chinatown|          107|      false|                         0.02|              3|            false|1138193-02-171-10...|    202105|          null|         201612|  94133|\n",
       " Castro/Upper Market|     Carlos Gonzalez|          |                    |     Gonzalez Carlos|              3|               28|{621bbdfb28d1927b...|           0.0|      2150 Market St|                5|      0482844|        |2018-06-30 00:00:00|POINT (-122.43003...|2013-09-01 00:00:00|  127|                   0|                 5|2018-06-30 00:00:00|2013-09-01 00:00:00|0482844-01-001|          0.0|Castro/Upper Market|           28|      false|                          0.0|              8|            false|0482844-01-001-04...|    201810|        201806|         201309|   null|\n",
       "           Chinatown|       April Six Inc| 5400-5499|Professional, Sci...|       April Six Inc|              6|              106|{621bbdfb28d1927b...|       14438.0|   900 Kearny St 700|                6|      1028891|        |               null|POINT (-122.40513...|2013-11-01 00:00:00|   78|                   0|                 3|               null|2019-09-08 00:00:00|1291452-11-211|          3.0|          Chinatown|          106|      false|                         0.02|              3|            false|1291452-11-211-10...|    202105|          null|         201909|  94133|\n",
       " Castro/Upper Market|         Due Drop In| 7220-7229|       Food Services|Haddad Reham J &amp; ...|              3|               37|{621bbdfb28d1927b...|           0.0|       489 Church St|                5|      0303740|        |               null|POINT (-122.4285 ...|1997-03-01 00:00:00|  127|                   0|                 5|2010-08-01 00:00:00|2009-09-11 00:00:00|0303740-04-001|          0.0|Castro/Upper Market|           37|      false|                          0.0|              8|            false|0303740-04-001-03...|    201810|        201008|         200909|   null|\n",
       "           Chinatown|      Clark Hill Llp| 5400-5499|Professional, Sci...|      Clark Hill Llp|              6|              104|{621bbdfb28d1927b...|       14438.0|505 Montgomery St...|                6|      1083959|        |               null|POINT (-122.40301...|2017-07-17 00:00:00|   78|                   0|                 3|               null|2017-07-31 00:00:00|1275722-04-211|          3.0|          Chinatown|          104|      false|                         0.02|              3|            false|1275722-04-211-10...|    202105|          null|         201707|  94111|\n",
       " Castro/Upper Market|        Eco Boutique|          |                    |      Melecio Juan A|              3|               38|{621bbdfb28d1927b...|           0.0|        4035 18th St|                5|      0431406|        |2010-03-15 00:00:00|POINT (-122.43353...|2008-08-13 00:00:00|  127|                   0|                 5|2010-03-15 00:00:00|2008-08-13 00:00:00|0431406-01-001|          0.0|Castro/Upper Market|           38|      false|                          0.0|              8|            false|0431406-01-001-04...|    201810|        201003|         200808|  94114|\n",
       "           Chinatown|Clinical Manageme...| 5100-5199|         Information|Clinical Mgmt Con...|              6|              106|{621bbdfb28d1927b...|       14438.0|435 Pacific Ave S...|                6|      0427077|        |               null|POINT (-122.40259...|2008-03-01 00:00:00|   78|                   0|                 3|               null|2015-01-01 00:00:00|1234846-09-191|          3.0|          Chinatown|          106|      false|                         0.02|              3|            false|1234846-09-191-04...|    202105|          null|         201501|  94133|\n",
       " Castro/Upper Market|        Paper Samosa| 4400-4599|        Retail Trade|   Nikki Simmi Patel|              3|               38|{621bbdfb28d1927b...|           0.0|          30 Pond St|                5|      1102691|        |               null|POINT (-122.43227...|2018-07-18 00:00:00|  127|                   0|                 5|               null|2018-07-18 00:00:00|1224003-06-191|          0.0|Castro/Upper Market|           38|      false|                          0.0|              8|            false|1224003-06-191-11...|    201810|          null|         201807|  94114|\n",
       "           Chinatown|Destination Homes Lp| 5300-5399|Real Estate and R...|Destination Homes Lp|              6|              108|{621bbdfb28d1927b...|       14438.0|505 Sansome St St...|                6|      0483920|        |2019-12-23 00:00:00|POINT (-122.40154...|2013-05-17 00:00:00|   78|                   0|                 3|2019-12-23 00:00:00|2013-05-17 00:00:00|0483920-01-001|          3.0|          Chinatown|          108|      false|                         0.02|              3|            false|0483920-01-001-04...|    202105|        201912|         201305|  94111|\n",
       " Castro/Upper Market|Potrero Trading C...|          |                    |       Phan Vernon T|              3|               38|{621bbdfb28d1927b...|           0.0|    4023 18th St 104|                5|      0475276|        |2016-06-01 00:00:00|POINT (-122.43331...|2012-01-01 00:00:00|  127|                   0|                 5|2016-06-01 00:00:00|2012-01-01 00:00:00|0475276-01-001|          0.0|Castro/Upper Market|           38|      false|                          0.0|              8|            false|0475276-01-001-04...|    201810|        201606|         201201|  94114|\n",
       "           Chinatown|     Adam Eigner Phd|          |                    |         Eigner Adam|              6|               16|{621bbdfb28d1927b...|       14438.0|844 California St #3|                6|      0489257|        |               null|POINT (-122.4085 ...|2014-04-08 00:00:00|   78|                   0|                 3|               null|2014-04-08 00:00:00|0489257-01-001|          3.0|          Chinatown|           16|      false|                         0.02|              3|            false|0489257-01-001-04...|    202105|          null|         201404|  94108|\n",
       " Castro/Upper Market|       Renaud Rental| 7210-7219|      Accommodations| Rana Baroudi Renaud|              3|               37|{621bbdfb28d1927b...|           0.0|  295 Sanchez Street|                5|      1075630|        |2018-06-17 00:00:00|POINT (-122.43086...|2017-09-01 00:00:00|  127|                   0|                 5|2018-06-17 00:00:00|2017-09-01 00:00:00|1159987-09-171|          0.0|Castro/Upper Market|           37|      false|                          0.0|              8|            false|1159987-09-171-10...|    201810|        201806|         201709|  94114|\n",
       "           Chinatown|Mantech Comm &amp; Gl...| 4800-4999|Transportation an...|Enwereuzo Michael...|              6|               16|{621bbdfb28d1927b...|       14438.0|840 California St...|                6|      1003111|        |2021-04-30 00:00:00|POINT (-122.40826...|2014-08-01 00:00:00|   78|                   0|                 3|2021-04-30 00:00:00|2014-12-15 00:00:00|1014095-12-141|          3.0|          Chinatown|           16|      false|                         0.02|              3|            false|1014095-12-141-10...|    202105|        202104|         201412|  94108|\n",
       " Castro/Upper Market|          Diyversity|          |                    |           Rene Diaz|              3|              115|{621bbdfb28d1927b...|           0.0|       60 Diamond St|                5|      1006326|        |2018-06-30 00:00:00|POINT (-122.43728...|2014-11-25 00:00:00|  127|                   0|                 5|2018-06-30 00:00:00|2014-11-25 00:00:00|1012869-11-141|          0.0|Castro/Upper Market|          115|      false|                          0.0|              8|            false|1012869-11-141-10...|    201810|        201806|         201411|  94114|\n",
       "+--------------------+--------------------+----------+--------------------+--------------------+---------------+-----------------+--------------------+--------------+--------------------+-----------------+-------------+--------+-------------------+--------------------+-------------------+-----+--------------------+------------------+-------------------+-------------------+--------------+-------------+-------------------+-------------+-----------+-----------------------------+---------------+-----------------+--------------------+----------+--------------+---------------+-------+\n",
       "only showing top 20 rows\n",
       "\n",
       "</div>"
      ]
     },
     "metadata": {
      "application/vnd.databricks.v1+output": {
       "addedWidgets": {},
       "arguments": {},
       "data": "<div class=\"ansiout\">+--------------------+--------------------+----------+--------------------+--------------------+---------------+-----------------+--------------------+--------------+--------------------+-----------------+-------------+--------+-------------------+--------------------+-------------------+-----+--------------------+------------------+-------------------+-------------------+--------------+-------------+-------------------+-------------+-----------+-----------------------------+---------------+-----------------+--------------------+----------+--------------+---------------+-------+\n|AnalysisNeighborhood|            DBA_name|NAICS_code|     NAICS_code_desc|          Owner_name|Police_district|SF_neighbourhoods|                 _id|acs_population|             address|analysis_neighbor|bus_accnt_num|bus_corr|       bus_end_date|             bus_loc|     bus_start_date|count|covid_close_flag_new|current_super_dist|       loc_end_date|     loc_start_date|   location_id|monthly_cases|     neigh_analysis|neighborhoods|parking_tax|percent_population_with_covid|supervisor_dist|transient_occ_tax|            uniqueID|year_month|year_month_end|year_month_strt|zipcode|\n+--------------------+--------------------+----------+--------------------+--------------------+---------------+-----------------+--------------------+--------------+--------------------+-----------------+-------------+--------+-------------------+--------------------+-------------------+-----+--------------------+------------------+-------------------+-------------------+--------------+-------------+-------------------+-------------+-----------+-----------------------------+---------------+-----------------+--------------------+----------+--------------+---------------+-------+\n| Castro/Upper Market| 2555 Market St Apts| 5300-5399|Real Estate and R...|     Bsw Corporation|              3|               38|{621bbdfb28d1927b...|           0.0|      2555 Market St|                5|      0374748|        |               null|POINT (-122.43678...|1996-10-31 00:00:00|  127|                   0|                 5|               null|1996-10-31 00:00:00|0374748-01-001|          0.0|Castro/Upper Market|           38|      false|                          0.0|              8|            false|0374748-01-001-03...|    201810|          null|         199610|   null|\n| Castro/Upper Market|Constant Fitness,...| 6100-6299|Private Education...|Constant Fitness,...|              3|               38|{621bbdfb28d1927b...|           0.0|2201 Market St Ste C|                5|      1028501|        |               null|POINT (-122.43104...|2015-10-27 00:00:00|  127|                   0|                 5|2016-04-30 00:00:00|2015-10-27 00:00:00|1058079-03-161|          0.0|Castro/Upper Market|           38|      false|                          0.0|              8|            false|1058079-03-161-10...|    201810|        201604|         201510|  94114|\n| Castro/Upper Market|      Pegus Property| 5300-5399|Real Estate and R...|Dotterweich Micha...|              3|              115|{621bbdfb28d1927b...|           0.0|       183 Eureka St|                5|      1012117|        |               null|POINT (-122.43811...|2015-04-06 00:00:00|  127|                   0|                 5|               null|2015-04-06 00:00:00|1025046-04-151|          0.0|Castro/Upper Market|          115|      false|                          0.0|              8|            false|1025046-04-151-10...|    201810|          null|         201504|  94114|\n| Castro/Upper Market|           Maru Dojo| 7100-7199|Arts, Entertainme...| Feliciano Raymond R|              7|               28|{621bbdfb28d1927b...|           0.0|         736 14th St|                5|      0460757|        |               null|POINT (-122.42974...|2013-04-01 00:00:00|  127|                   0|                 5|               null|2013-04-01 00:00:00|0460757-03-001|          0.0|Castro/Upper Market|           28|      false|                          0.0|              8|            false|0460757-03-001-04...|    201810|          null|         201304|   null|\n| Castro/Upper Market|       Lynn Friedman| 7100-7199|Arts, Entertainme...|       Friedman Lynn|              3|               38|{621bbdfb28d1927b...|           0.0|584 Castro St Uni...|                5|      1024391|        |               null|POINT (-122.43491...|2016-01-16 00:00:00|  127|                   1|                 5|2018-10-25 00:00:00|2017-06-01 00:00:00|1149995-06-171|          0.0|Castro/Upper Market|           38|      false|                          0.0|              8|            false|1149995-06-171-10...|    201810|        201810|         201706|   null|\n|           Chinatown|    737 Pine I1, Llc| 5300-5399|Real Estate and R...|      737 Pine L1 Lp|              6|              104|{621bbdfb28d1927b...|       14438.0|600 California St 20|                6|      1018390|        |               null|POINT (-122.40453...|2014-12-15 00:00:00|   78|                   0|                 3|2020-01-30 00:00:00|2014-12-15 00:00:00|1039582-09-151|          3.0|          Chinatown|          104|      false|                         0.02|              3|            false|1039582-09-151-10...|    202105|        202001|         201412|  94108|\n|           Chinatown| 916 Pacific I5, Llc| 5300-5399|Real Estate and R...| 916 Pacific I5, Llc|              6|              107|{621bbdfb28d1927b...|       14438.0|     916 Pacific Ave|                6|      1066396|        |               null|POINT (-122.41033...|2016-12-14 00:00:00|   78|                   0|                 3|               null|2016-12-14 00:00:00|1138193-02-171|          3.0|          Chinatown|          107|      false|                         0.02|              3|            false|1138193-02-171-10...|    202105|          null|         201612|  94133|\n| Castro/Upper Market|     Carlos Gonzalez|          |                    |     Gonzalez Carlos|              3|               28|{621bbdfb28d1927b...|           0.0|      2150 Market St|                5|      0482844|        |2018-06-30 00:00:00|POINT (-122.43003...|2013-09-01 00:00:00|  127|                   0|                 5|2018-06-30 00:00:00|2013-09-01 00:00:00|0482844-01-001|          0.0|Castro/Upper Market|           28|      false|                          0.0|              8|            false|0482844-01-001-04...|    201810|        201806|         201309|   null|\n|           Chinatown|       April Six Inc| 5400-5499|Professional, Sci...|       April Six Inc|              6|              106|{621bbdfb28d1927b...|       14438.0|   900 Kearny St 700|                6|      1028891|        |               null|POINT (-122.40513...|2013-11-01 00:00:00|   78|                   0|                 3|               null|2019-09-08 00:00:00|1291452-11-211|          3.0|          Chinatown|          106|      false|                         0.02|              3|            false|1291452-11-211-10...|    202105|          null|         201909|  94133|\n| Castro/Upper Market|         Due Drop In| 7220-7229|       Food Services|Haddad Reham J &amp; ...|              3|               37|{621bbdfb28d1927b...|           0.0|       489 Church St|                5|      0303740|        |               null|POINT (-122.4285 ...|1997-03-01 00:00:00|  127|                   0|                 5|2010-08-01 00:00:00|2009-09-11 00:00:00|0303740-04-001|          0.0|Castro/Upper Market|           37|      false|                          0.0|              8|            false|0303740-04-001-03...|    201810|        201008|         200909|   null|\n|           Chinatown|      Clark Hill Llp| 5400-5499|Professional, Sci...|      Clark Hill Llp|              6|              104|{621bbdfb28d1927b...|       14438.0|505 Montgomery St...|                6|      1083959|        |               null|POINT (-122.40301...|2017-07-17 00:00:00|   78|                   0|                 3|               null|2017-07-31 00:00:00|1275722-04-211|          3.0|          Chinatown|          104|      false|                         0.02|              3|            false|1275722-04-211-10...|    202105|          null|         201707|  94111|\n| Castro/Upper Market|        Eco Boutique|          |                    |      Melecio Juan A|              3|               38|{621bbdfb28d1927b...|           0.0|        4035 18th St|                5|      0431406|        |2010-03-15 00:00:00|POINT (-122.43353...|2008-08-13 00:00:00|  127|                   0|                 5|2010-03-15 00:00:00|2008-08-13 00:00:00|0431406-01-001|          0.0|Castro/Upper Market|           38|      false|                          0.0|              8|            false|0431406-01-001-04...|    201810|        201003|         200808|  94114|\n|           Chinatown|Clinical Manageme...| 5100-5199|         Information|Clinical Mgmt Con...|              6|              106|{621bbdfb28d1927b...|       14438.0|435 Pacific Ave S...|                6|      0427077|        |               null|POINT (-122.40259...|2008-03-01 00:00:00|   78|                   0|                 3|               null|2015-01-01 00:00:00|1234846-09-191|          3.0|          Chinatown|          106|      false|                         0.02|              3|            false|1234846-09-191-04...|    202105|          null|         201501|  94133|\n| Castro/Upper Market|        Paper Samosa| 4400-4599|        Retail Trade|   Nikki Simmi Patel|              3|               38|{621bbdfb28d1927b...|           0.0|          30 Pond St|                5|      1102691|        |               null|POINT (-122.43227...|2018-07-18 00:00:00|  127|                   0|                 5|               null|2018-07-18 00:00:00|1224003-06-191|          0.0|Castro/Upper Market|           38|      false|                          0.0|              8|            false|1224003-06-191-11...|    201810|          null|         201807|  94114|\n|           Chinatown|Destination Homes Lp| 5300-5399|Real Estate and R...|Destination Homes Lp|              6|              108|{621bbdfb28d1927b...|       14438.0|505 Sansome St St...|                6|      0483920|        |2019-12-23 00:00:00|POINT (-122.40154...|2013-05-17 00:00:00|   78|                   0|                 3|2019-12-23 00:00:00|2013-05-17 00:00:00|0483920-01-001|          3.0|          Chinatown|          108|      false|                         0.02|              3|            false|0483920-01-001-04...|    202105|        201912|         201305|  94111|\n| Castro/Upper Market|Potrero Trading C...|          |                    |       Phan Vernon T|              3|               38|{621bbdfb28d1927b...|           0.0|    4023 18th St 104|                5|      0475276|        |2016-06-01 00:00:00|POINT (-122.43331...|2012-01-01 00:00:00|  127|                   0|                 5|2016-06-01 00:00:00|2012-01-01 00:00:00|0475276-01-001|          0.0|Castro/Upper Market|           38|      false|                          0.0|              8|            false|0475276-01-001-04...|    201810|        201606|         201201|  94114|\n|           Chinatown|     Adam Eigner Phd|          |                    |         Eigner Adam|              6|               16|{621bbdfb28d1927b...|       14438.0|844 California St #3|                6|      0489257|        |               null|POINT (-122.4085 ...|2014-04-08 00:00:00|   78|                   0|                 3|               null|2014-04-08 00:00:00|0489257-01-001|          3.0|          Chinatown|           16|      false|                         0.02|              3|            false|0489257-01-001-04...|    202105|          null|         201404|  94108|\n| Castro/Upper Market|       Renaud Rental| 7210-7219|      Accommodations| Rana Baroudi Renaud|              3|               37|{621bbdfb28d1927b...|           0.0|  295 Sanchez Street|                5|      1075630|        |2018-06-17 00:00:00|POINT (-122.43086...|2017-09-01 00:00:00|  127|                   0|                 5|2018-06-17 00:00:00|2017-09-01 00:00:00|1159987-09-171|          0.0|Castro/Upper Market|           37|      false|                          0.0|              8|            false|1159987-09-171-10...|    201810|        201806|         201709|  94114|\n|           Chinatown|Mantech Comm &amp; Gl...| 4800-4999|Transportation an...|Enwereuzo Michael...|              6|               16|{621bbdfb28d1927b...|       14438.0|840 California St...|                6|      1003111|        |2021-04-30 00:00:00|POINT (-122.40826...|2014-08-01 00:00:00|   78|                   0|                 3|2021-04-30 00:00:00|2014-12-15 00:00:00|1014095-12-141|          3.0|          Chinatown|           16|      false|                         0.02|              3|            false|1014095-12-141-10...|    202105|        202104|         201412|  94108|\n| Castro/Upper Market|          Diyversity|          |                    |           Rene Diaz|              3|              115|{621bbdfb28d1927b...|           0.0|       60 Diamond St|                5|      1006326|        |2018-06-30 00:00:00|POINT (-122.43728...|2014-11-25 00:00:00|  127|                   0|                 5|2018-06-30 00:00:00|2014-11-25 00:00:00|1012869-11-141|          0.0|Castro/Upper Market|          115|      false|                          0.0|              8|            false|1012869-11-141-10...|    201810|        201806|         201411|  94114|\n+--------------------+--------------------+----------+--------------------+--------------------+---------------+-----------------+--------------------+--------------+--------------------+-----------------+-------------+--------+-------------------+--------------------+-------------------+-----+--------------------+------------------+-------------------+-------------------+--------------+-------------+-------------------+-------------+-----------+-----------------------------+---------------+-----------------+--------------------+----------+--------------+---------------+-------+\nonly showing top 20 rows\n\n</div>",
       "datasetInfos": [],
       "metadata": {},
       "removedWidgets": [],
       "type": "html"
      }
     },
     "output_type": "display_data"
    }
   ],
   "source": [
    "df.show()"
   ]
  },
  {
   "cell_type": "code",
   "execution_count": null,
   "metadata": {
    "application/vnd.databricks.v1+cell": {
     "inputWidgets": {},
     "nuid": "455b1759-4cb6-47a6-8970-9771b95438a4",
     "showTitle": false,
     "title": ""
    }
   },
   "outputs": [],
   "source": []
  }
 ],
 "metadata": {
  "application/vnd.databricks.v1+notebook": {
   "dashboards": [],
   "language": "python",
   "notebookMetadata": {
    "pythonIndentUnit": 4
   },
   "notebookName": "Group9_Database_project",
   "notebookOrigID": 167520817233091,
   "widgets": {}
  },
  "kernelspec": {
   "display_name": "Python 3",
   "language": "python",
   "name": "python3"
  },
  "language_info": {
   "codemirror_mode": {
    "name": "ipython",
    "version": 3
   },
   "file_extension": ".py",
   "mimetype": "text/x-python",
   "name": "python",
   "nbconvert_exporter": "python",
   "pygments_lexer": "ipython3",
   "version": "3.8.11"
  }
 },
 "nbformat": 4,
 "nbformat_minor": 4
}
